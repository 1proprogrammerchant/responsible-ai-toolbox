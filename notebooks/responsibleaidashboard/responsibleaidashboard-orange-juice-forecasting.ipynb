{
  "cells": [
    {
      "cell_type": "markdown",
      "metadata": {},
      "source": [
        "Copyright (c) Microsoft Corporation. All rights reserved.\n",
        "\n",
        "Licensed under the MIT License."
      ]
    },
    {
      "attachments": {},
      "cell_type": "markdown",
      "metadata": {},
      "source": [
        "# Responsible AI dashboard for Time Series Forecasting\n",
        "_**Orange Juice Sales Forecasting**_\n",
        "\n",
        "## Contents\n",
        "1. [Introduction](#introduction)\n",
        "1. [Data](#data)\n",
        "1. [Train](#train)\n",
        "1. [Forecast](#forecast)\n",
        "1. [Responsible AI Dashboard](#analyze)"
      ]
    },
    {
      "attachments": {},
      "cell_type": "markdown",
      "metadata": {},
      "source": [
        "## Introduction<a id=\"introduction\"></a>\n",
        "In this example, we use sktime to train, select, and operationalize a time-series forecasting model for multiple time-series.\n",
        "\n",
        "The examples in the follow code samples use the University of Chicago's Dominick's Finer Foods dataset to forecast orange juice sales. Dominick's was a grocery chain in the Chicago metropolitan area."
      ]
    },
    {
      "cell_type": "code",
      "execution_count": 1,
      "metadata": {
        "gather": {
          "logged": 1670990788014
        }
      },
      "outputs": [],
      "source": [
        "import json\n",
        "import numpy as np\n",
        "import pandas as pd\n",
        "from sktime.forecasting.arima import AutoARIMA\n",
        "from sktime.forecasting.base import ForecastingHorizon\n",
        "from sktime.forecasting.model_selection import temporal_train_test_split"
      ]
    },
    {
      "cell_type": "markdown",
      "metadata": {},
      "source": [
        "## Data<a id=\"data\"></a>\n",
        "You are now ready to load the historical orange juice sales data. We will load the CSV file into a plain pandas DataFrame; the time column in the CSV is called _WeekStarting_, so it will be specially parsed into the datetime type."
      ]
    },
    {
      "cell_type": "code",
      "execution_count": 2,
      "metadata": {
        "gather": {
          "logged": 1670990899201
        }
      },
      "outputs": [
        {
          "data": {
            "text/html": [
              "<div>\n",
              "<style scoped>\n",
              "    .dataframe tbody tr th:only-of-type {\n",
              "        vertical-align: middle;\n",
              "    }\n",
              "\n",
              "    .dataframe tbody tr th {\n",
              "        vertical-align: top;\n",
              "    }\n",
              "\n",
              "    .dataframe thead th {\n",
              "        text-align: right;\n",
              "    }\n",
              "</style>\n",
              "<table border=\"1\" class=\"dataframe\">\n",
              "  <thead>\n",
              "    <tr style=\"text-align: right;\">\n",
              "      <th></th>\n",
              "      <th></th>\n",
              "      <th></th>\n",
              "      <th>Quantity</th>\n",
              "      <th>Advert</th>\n",
              "      <th>Price</th>\n",
              "      <th>Age60</th>\n",
              "      <th>COLLEGE</th>\n",
              "      <th>INCOME</th>\n",
              "      <th>Hincome150</th>\n",
              "      <th>Large HH</th>\n",
              "      <th>Minorities</th>\n",
              "      <th>WorkingWoman</th>\n",
              "      <th>SSTRDIST</th>\n",
              "      <th>SSTRVOL</th>\n",
              "      <th>CPDIST5</th>\n",
              "      <th>CPWVOL5</th>\n",
              "    </tr>\n",
              "    <tr>\n",
              "      <th>Store</th>\n",
              "      <th>Brand</th>\n",
              "      <th>WeekStarting</th>\n",
              "      <th></th>\n",
              "      <th></th>\n",
              "      <th></th>\n",
              "      <th></th>\n",
              "      <th></th>\n",
              "      <th></th>\n",
              "      <th></th>\n",
              "      <th></th>\n",
              "      <th></th>\n",
              "      <th></th>\n",
              "      <th></th>\n",
              "      <th></th>\n",
              "      <th></th>\n",
              "      <th></th>\n",
              "    </tr>\n",
              "  </thead>\n",
              "  <tbody>\n",
              "    <tr>\n",
              "      <th rowspan=\"10\" valign=\"top\">2</th>\n",
              "      <th rowspan=\"10\" valign=\"top\">dominicks</th>\n",
              "      <th>1990-06-14</th>\n",
              "      <td>10560.000000</td>\n",
              "      <td>1.000000</td>\n",
              "      <td>1.590000</td>\n",
              "      <td>0.232865</td>\n",
              "      <td>0.248935</td>\n",
              "      <td>10.553205</td>\n",
              "      <td>0.463887</td>\n",
              "      <td>0.103953</td>\n",
              "      <td>0.11428</td>\n",
              "      <td>0.303585</td>\n",
              "      <td>2.110122</td>\n",
              "      <td>1.142857</td>\n",
              "      <td>1.92728</td>\n",
              "      <td>0.376927</td>\n",
              "    </tr>\n",
              "    <tr>\n",
              "      <th>1990-06-21</th>\n",
              "      <td>10133.333333</td>\n",
              "      <td>0.833333</td>\n",
              "      <td>1.773333</td>\n",
              "      <td>0.232865</td>\n",
              "      <td>0.248935</td>\n",
              "      <td>10.553205</td>\n",
              "      <td>0.463887</td>\n",
              "      <td>0.103953</td>\n",
              "      <td>0.11428</td>\n",
              "      <td>0.303585</td>\n",
              "      <td>2.110122</td>\n",
              "      <td>1.142857</td>\n",
              "      <td>1.92728</td>\n",
              "      <td>0.376927</td>\n",
              "    </tr>\n",
              "    <tr>\n",
              "      <th>1990-06-28</th>\n",
              "      <td>9706.666667</td>\n",
              "      <td>0.666667</td>\n",
              "      <td>1.956667</td>\n",
              "      <td>0.232865</td>\n",
              "      <td>0.248935</td>\n",
              "      <td>10.553205</td>\n",
              "      <td>0.463887</td>\n",
              "      <td>0.103953</td>\n",
              "      <td>0.11428</td>\n",
              "      <td>0.303585</td>\n",
              "      <td>2.110122</td>\n",
              "      <td>1.142857</td>\n",
              "      <td>1.92728</td>\n",
              "      <td>0.376927</td>\n",
              "    </tr>\n",
              "    <tr>\n",
              "      <th>1990-07-05</th>\n",
              "      <td>9280.000000</td>\n",
              "      <td>0.500000</td>\n",
              "      <td>2.140000</td>\n",
              "      <td>0.232865</td>\n",
              "      <td>0.248935</td>\n",
              "      <td>10.553205</td>\n",
              "      <td>0.463887</td>\n",
              "      <td>0.103953</td>\n",
              "      <td>0.11428</td>\n",
              "      <td>0.303585</td>\n",
              "      <td>2.110122</td>\n",
              "      <td>1.142857</td>\n",
              "      <td>1.92728</td>\n",
              "      <td>0.376927</td>\n",
              "    </tr>\n",
              "    <tr>\n",
              "      <th>1990-07-12</th>\n",
              "      <td>8853.333333</td>\n",
              "      <td>0.333333</td>\n",
              "      <td>2.323333</td>\n",
              "      <td>0.232865</td>\n",
              "      <td>0.248935</td>\n",
              "      <td>10.553205</td>\n",
              "      <td>0.463887</td>\n",
              "      <td>0.103953</td>\n",
              "      <td>0.11428</td>\n",
              "      <td>0.303585</td>\n",
              "      <td>2.110122</td>\n",
              "      <td>1.142857</td>\n",
              "      <td>1.92728</td>\n",
              "      <td>0.376927</td>\n",
              "    </tr>\n",
              "    <tr>\n",
              "      <th>1990-07-19</th>\n",
              "      <td>8426.666667</td>\n",
              "      <td>0.166667</td>\n",
              "      <td>2.506667</td>\n",
              "      <td>0.232865</td>\n",
              "      <td>0.248935</td>\n",
              "      <td>10.553205</td>\n",
              "      <td>0.463887</td>\n",
              "      <td>0.103953</td>\n",
              "      <td>0.11428</td>\n",
              "      <td>0.303585</td>\n",
              "      <td>2.110122</td>\n",
              "      <td>1.142857</td>\n",
              "      <td>1.92728</td>\n",
              "      <td>0.376927</td>\n",
              "    </tr>\n",
              "    <tr>\n",
              "      <th>1990-07-26</th>\n",
              "      <td>8000.000000</td>\n",
              "      <td>0.000000</td>\n",
              "      <td>2.690000</td>\n",
              "      <td>0.232865</td>\n",
              "      <td>0.248935</td>\n",
              "      <td>10.553205</td>\n",
              "      <td>0.463887</td>\n",
              "      <td>0.103953</td>\n",
              "      <td>0.11428</td>\n",
              "      <td>0.303585</td>\n",
              "      <td>2.110122</td>\n",
              "      <td>1.142857</td>\n",
              "      <td>1.92728</td>\n",
              "      <td>0.376927</td>\n",
              "    </tr>\n",
              "    <tr>\n",
              "      <th>1990-08-02</th>\n",
              "      <td>6848.000000</td>\n",
              "      <td>1.000000</td>\n",
              "      <td>2.090000</td>\n",
              "      <td>0.232865</td>\n",
              "      <td>0.248935</td>\n",
              "      <td>10.553205</td>\n",
              "      <td>0.463887</td>\n",
              "      <td>0.103953</td>\n",
              "      <td>0.11428</td>\n",
              "      <td>0.303585</td>\n",
              "      <td>2.110122</td>\n",
              "      <td>1.142857</td>\n",
              "      <td>1.92728</td>\n",
              "      <td>0.376927</td>\n",
              "    </tr>\n",
              "    <tr>\n",
              "      <th>1990-08-09</th>\n",
              "      <td>2880.000000</td>\n",
              "      <td>0.000000</td>\n",
              "      <td>2.090000</td>\n",
              "      <td>0.232865</td>\n",
              "      <td>0.248935</td>\n",
              "      <td>10.553205</td>\n",
              "      <td>0.463887</td>\n",
              "      <td>0.103953</td>\n",
              "      <td>0.11428</td>\n",
              "      <td>0.303585</td>\n",
              "      <td>2.110122</td>\n",
              "      <td>1.142857</td>\n",
              "      <td>1.92728</td>\n",
              "      <td>0.376927</td>\n",
              "    </tr>\n",
              "    <tr>\n",
              "      <th>1990-08-16</th>\n",
              "      <td>2240.000000</td>\n",
              "      <td>0.000000</td>\n",
              "      <td>2.090000</td>\n",
              "      <td>0.232865</td>\n",
              "      <td>0.248935</td>\n",
              "      <td>10.553205</td>\n",
              "      <td>0.463887</td>\n",
              "      <td>0.103953</td>\n",
              "      <td>0.11428</td>\n",
              "      <td>0.303585</td>\n",
              "      <td>2.110122</td>\n",
              "      <td>1.142857</td>\n",
              "      <td>1.92728</td>\n",
              "      <td>0.376927</td>\n",
              "    </tr>\n",
              "  </tbody>\n",
              "</table>\n",
              "</div>"
            ],
            "text/plain": [
              "                                  Quantity    Advert     Price     Age60  \\\n",
              "Store Brand     WeekStarting                                               \n",
              "2     dominicks 1990-06-14    10560.000000  1.000000  1.590000  0.232865   \n",
              "                1990-06-21    10133.333333  0.833333  1.773333  0.232865   \n",
              "                1990-06-28     9706.666667  0.666667  1.956667  0.232865   \n",
              "                1990-07-05     9280.000000  0.500000  2.140000  0.232865   \n",
              "                1990-07-12     8853.333333  0.333333  2.323333  0.232865   \n",
              "                1990-07-19     8426.666667  0.166667  2.506667  0.232865   \n",
              "                1990-07-26     8000.000000  0.000000  2.690000  0.232865   \n",
              "                1990-08-02     6848.000000  1.000000  2.090000  0.232865   \n",
              "                1990-08-09     2880.000000  0.000000  2.090000  0.232865   \n",
              "                1990-08-16     2240.000000  0.000000  2.090000  0.232865   \n",
              "\n",
              "                               COLLEGE     INCOME  Hincome150  Large HH  \\\n",
              "Store Brand     WeekStarting                                              \n",
              "2     dominicks 1990-06-14    0.248935  10.553205    0.463887  0.103953   \n",
              "                1990-06-21    0.248935  10.553205    0.463887  0.103953   \n",
              "                1990-06-28    0.248935  10.553205    0.463887  0.103953   \n",
              "                1990-07-05    0.248935  10.553205    0.463887  0.103953   \n",
              "                1990-07-12    0.248935  10.553205    0.463887  0.103953   \n",
              "                1990-07-19    0.248935  10.553205    0.463887  0.103953   \n",
              "                1990-07-26    0.248935  10.553205    0.463887  0.103953   \n",
              "                1990-08-02    0.248935  10.553205    0.463887  0.103953   \n",
              "                1990-08-09    0.248935  10.553205    0.463887  0.103953   \n",
              "                1990-08-16    0.248935  10.553205    0.463887  0.103953   \n",
              "\n",
              "                              Minorities  WorkingWoman  SSTRDIST   SSTRVOL  \\\n",
              "Store Brand     WeekStarting                                                 \n",
              "2     dominicks 1990-06-14       0.11428      0.303585  2.110122  1.142857   \n",
              "                1990-06-21       0.11428      0.303585  2.110122  1.142857   \n",
              "                1990-06-28       0.11428      0.303585  2.110122  1.142857   \n",
              "                1990-07-05       0.11428      0.303585  2.110122  1.142857   \n",
              "                1990-07-12       0.11428      0.303585  2.110122  1.142857   \n",
              "                1990-07-19       0.11428      0.303585  2.110122  1.142857   \n",
              "                1990-07-26       0.11428      0.303585  2.110122  1.142857   \n",
              "                1990-08-02       0.11428      0.303585  2.110122  1.142857   \n",
              "                1990-08-09       0.11428      0.303585  2.110122  1.142857   \n",
              "                1990-08-16       0.11428      0.303585  2.110122  1.142857   \n",
              "\n",
              "                              CPDIST5   CPWVOL5  \n",
              "Store Brand     WeekStarting                     \n",
              "2     dominicks 1990-06-14    1.92728  0.376927  \n",
              "                1990-06-21    1.92728  0.376927  \n",
              "                1990-06-28    1.92728  0.376927  \n",
              "                1990-07-05    1.92728  0.376927  \n",
              "                1990-07-12    1.92728  0.376927  \n",
              "                1990-07-19    1.92728  0.376927  \n",
              "                1990-07-26    1.92728  0.376927  \n",
              "                1990-08-02    1.92728  0.376927  \n",
              "                1990-08-09    1.92728  0.376927  \n",
              "                1990-08-16    1.92728  0.376927  "
            ]
          },
          "execution_count": 2,
          "metadata": {},
          "output_type": "execute_result"
        }
      ],
      "source": [
        "time_column_name = \"WeekStarting\"\n",
        "time_series_id_column_names = [\"Store\", \"Brand\"]\n",
        "dataset_location = \"https://raw.githubusercontent.com/Azure/azureml-examples/2fe81643865e1f4591e7734bd1a729093cafb826/v1/python-sdk/tutorials/automl-with-azureml/forecasting-orange-juice-sales/dominicks_OJ.csv\"\n",
        "data = pd.read_csv(dataset_location, parse_dates=[time_column_name])\n",
        "\n",
        "# Drop the columns 'logQuantity' as it is a leaky feature.\n",
        "data.drop(\"logQuantity\", axis=1, inplace=True)\n",
        "\n",
        "# Set up multi index with time series ID columns and time column.\n",
        "data.set_index(time_series_id_column_names + [time_column_name], inplace=True, drop=True)\n",
        "data = data.groupby(time_series_id_column_names).apply(lambda group: group.loc[group.name].asfreq(\"W-THU\").interpolate())\n",
        "data.sort_index(inplace=True, ascending=[True, True, True])\n",
        "\n",
        "data.head(10)"
      ]
    },
    {
      "cell_type": "markdown",
      "metadata": {},
      "source": [
        "Each row in the DataFrame holds a quantity of weekly sales for an OJ brand at a single store. The data also includes the sales price, a flag indicating if the OJ brand was advertised in the store that week, and some customer demographic information based on the store location. For historical reasons, the data also include the logarithm of the sales quantity. The Dominick's grocery data is commonly used to illustrate econometric modeling techniques where logarithms of quantities are generally preferred.    \n",
        "\n",
        "The task is now to build a time-series model for the _Quantity_ column. It is important to note that this dataset is comprised of many individual time-series - one for each unique combination of _Store_ and _Brand_. To distinguish the individual time-series, we define the **time_series_id_column_names** - the columns whose values determine the boundaries between time-series: "
      ]
    },
    {
      "cell_type": "code",
      "execution_count": 3,
      "metadata": {
        "gather": {
          "logged": 1670990902872
        }
      },
      "outputs": [
        {
          "name": "stdout",
          "output_type": "stream",
          "text": [
            "Data contains 249 individual time-series.\n"
          ]
        }
      ],
      "source": [
        "nseries = data.groupby(time_series_id_column_names).ngroups\n",
        "print(\"Data contains {0} individual time-series.\".format(nseries))"
      ]
    },
    {
      "cell_type": "markdown",
      "metadata": {},
      "source": [
        "For demonstration purposes, we extract sales time-series for just a few of the stores:"
      ]
    },
    {
      "cell_type": "code",
      "execution_count": 4,
      "metadata": {
        "gather": {
          "logged": 1670990905562
        }
      },
      "outputs": [
        {
          "name": "stdout",
          "output_type": "stream",
          "text": [
            "Data subset contains 9 individual time-series.\n"
          ]
        }
      ],
      "source": [
        "use_stores = [2, 5, 8]\n",
        "use_brands = ['tropicana', 'dominicks', 'minute.maid']\n",
        "data_subset = data.loc[(use_stores, use_brands, slice(None)), :]\n",
        "nseries = data_subset.groupby(time_series_id_column_names).ngroups\n",
        "print(f\"Data subset contains {nseries} individual time-series.\")"
      ]
    },
    {
      "cell_type": "markdown",
      "metadata": {},
      "source": [
        "### Data Splitting\n",
        "We now split the data into a training and a testing set for later forecast evaluation. The test set will contain the final 20 weeks of observed sales for each time-series. The splits should be stratified by series, so we use a group-by statement on the time series identifier columns."
      ]
    },
    {
      "cell_type": "code",
      "execution_count": 5,
      "metadata": {
        "gather": {
          "logged": 1670990907583
        }
      },
      "outputs": [
        {
          "name": "stderr",
          "output_type": "stream",
          "text": [
            "c:\\ProgramData\\Anaconda3\\envs\\sktime\\lib\\site-packages\\sktime\\datatypes\\_utilities.py:42: PerformanceWarning: indexing past lexsort depth may impact performance.\n",
            "  return X.loc[tuple(list(X.index[0])[:-1])].index\n"
          ]
        }
      ],
      "source": [
        "target_column_name = \"Quantity\"\n",
        "\n",
        "y = pd.DataFrame(data_subset[target_column_name])\n",
        "X = data_subset.drop(columns=[target_column_name])\n",
        "fh_dates = pd.DatetimeIndex(y.index.get_level_values(2).unique().sort_values().to_list()[-20:], freq='W-THU')\n",
        "fh = ForecastingHorizon(fh_dates, is_relative=False)\n",
        "y_train, y_test, X_train, X_test = \\\n",
        "    temporal_train_test_split(\n",
        "        y=y,\n",
        "        X=X,\n",
        "        test_size=20)"
      ]
    },
    {
      "attachments": {},
      "cell_type": "markdown",
      "metadata": {},
      "source": [
        "## Modeling\n",
        "\n",
        "For forecasting tasks, we need to do several pre-processing and estimation steps that are specific to time-series including:\n",
        "* Detect time-series sample frequency (e.g. hourly, daily, weekly) and create new records for absent time points to make the series regular. A regular time series has a well-defined frequency and has a value at every sample point in a contiguous time span \n",
        "* Impute missing values in the target (via forward-fill) and feature columns (using median column values) \n",
        "* Create features based on time series identifiers to enable fixed effects across different series\n",
        "* Create time-based features to assist in learning seasonal patterns\n",
        "* Encode categorical variables to numeric quantities\n",
        "\n",
        "In this notebook, we will train a single, regression-type model across **all** time-series in a given training set. This allows the model to generalize across related series."
      ]
    },
    {
      "cell_type": "markdown",
      "metadata": {},
      "source": [
        "## Customization\n",
        "\n",
        "The featurization customization in forecasting is an advanced feature in AutoML which allows our customers to change the default forecasting featurization behaviors and column types through `FeaturizationConfig`. The supported scenarios include:\n",
        "\n",
        "1. Column purposes update: Override feature type for the specified column. Currently supports DateTime, Categorical and Numeric. This customization can be used in the scenario that the type of the column cannot correctly reflect its purpose. Some numerical columns, for instance, can be treated as Categorical columns which need to be converted to categorical while some can be treated as epoch timestamp which need to be converted to datetime. To tell our SDK to correctly preprocess these columns, a configuration need to be add with the columns and their desired types.\n",
        "2. Transformer parameters update: Currently supports parameter change for Imputer only. User can customize imputation methods. The supported imputing methods for target column are constant and ffill (forward fill). The supported imputing methods for feature columns are mean, median, most frequent, constant and ffill (forward fill). This customization can be used for the scenario that our customers know which imputation methods fit best to the input data. For instance, some datasets use NaN to represent 0 which the correct behavior should impute all the missing value with 0. To achieve this behavior, these columns need to be configured as constant imputation with `fill_value` 0.\n",
        "3. Drop columns: Columns to drop from being featurized. These usually are the columns which are leaky or the columns contain no useful data."
      ]
    },
    {
      "cell_type": "markdown",
      "metadata": {},
      "source": [
        "## Forecasting Parameters\n",
        "To define forecasting parameters for your experiment training, you can leverage the ForecastingParameters class. The table below details the forecasting parameter we will be passing into our experiment.\n",
        "\n",
        "\n",
        "|Property|Description|\n",
        "|-|-|\n",
        "|**time_column_name**|The name of your time column.|\n",
        "|**forecast_horizon**|The forecast horizon is how many periods forward you would like to forecast. This integer horizon is in units of the timeseries frequency (e.g. daily, weekly).|\n",
        "|**time_series_id_column_names**|The column names used to uniquely identify the time series in data that has multiple rows with the same timestamp. If the time series identifiers are not defined, the data set is assumed to be one time series.|\n",
        "|**freq**|Forecast frequency. This optional parameter represents the period with which the forecast is desired, for example, daily, weekly, yearly, etc. Use this parameter for the correction of time series containing irregular data points or for padding of short time series. The frequency needs to be a pandas offset alias. Please refer to [pandas documentation](https://pandas.pydata.org/pandas-docs/stable/user_guide/timeseries.html#dateoffset-objects) for more information.\n",
        "|**cv_step_size**|Number of periods between two consecutive cross-validation folds. The default value is \"auto\", in which case AutoMl determines the cross-validation step size automatically, if a validation set is not provided. Or users could specify an integer value."
      ]
    },
    {
      "attachments": {},
      "cell_type": "markdown",
      "metadata": {},
      "source": [
        "## Train<a id=\"train\"></a>"
      ]
    },
    {
      "cell_type": "markdown",
      "metadata": {},
      "source": [
        "You can now submit a new training run. Depending on the data and number of iterations this operation may take several minutes.\n",
        "Information from each iteration will be printed to the console.  Validation errors and current status will be shown when setting `show_output=True` and the execution will be synchronous."
      ]
    },
    {
      "cell_type": "code",
      "execution_count": 6,
      "metadata": {},
      "outputs": [
        {
          "name": "stderr",
          "output_type": "stream",
          "text": [
            "c:\\ProgramData\\Anaconda3\\envs\\sktime\\lib\\site-packages\\sktime\\datatypes\\_utilities.py:301: PerformanceWarning: indexing past lexsort depth may impact performance.\n",
            "  obj.loc[x].index.get_level_values(-1) for x in idx.droplevel(-1).unique()\n",
            "c:\\ProgramData\\Anaconda3\\envs\\sktime\\lib\\site-packages\\sktime\\datatypes\\_vectorize.py:288: PerformanceWarning: indexing past lexsort depth may impact performance.\n",
            "  res = X[col_ind].loc[row_ind]\n",
            "c:\\ProgramData\\Anaconda3\\envs\\sktime\\lib\\site-packages\\sktime\\datatypes\\_vectorize.py:284: PerformanceWarning: indexing past lexsort depth may impact performance.\n",
            "  res = X.loc[row_ind]\n",
            "c:\\ProgramData\\Anaconda3\\envs\\sktime\\lib\\site-packages\\sktime\\datatypes\\_vectorize.py:288: PerformanceWarning: indexing past lexsort depth may impact performance.\n",
            "  res = X[col_ind].loc[row_ind]\n",
            "c:\\ProgramData\\Anaconda3\\envs\\sktime\\lib\\site-packages\\sktime\\datatypes\\_vectorize.py:284: PerformanceWarning: indexing past lexsort depth may impact performance.\n",
            "  res = X.loc[row_ind]\n",
            "c:\\ProgramData\\Anaconda3\\envs\\sktime\\lib\\site-packages\\sktime\\datatypes\\_vectorize.py:288: PerformanceWarning: indexing past lexsort depth may impact performance.\n",
            "  res = X[col_ind].loc[row_ind]\n",
            "c:\\ProgramData\\Anaconda3\\envs\\sktime\\lib\\site-packages\\sktime\\datatypes\\_vectorize.py:284: PerformanceWarning: indexing past lexsort depth may impact performance.\n",
            "  res = X.loc[row_ind]\n",
            "c:\\ProgramData\\Anaconda3\\envs\\sktime\\lib\\site-packages\\sktime\\datatypes\\_vectorize.py:288: PerformanceWarning: indexing past lexsort depth may impact performance.\n",
            "  res = X[col_ind].loc[row_ind]\n",
            "c:\\ProgramData\\Anaconda3\\envs\\sktime\\lib\\site-packages\\sktime\\datatypes\\_vectorize.py:284: PerformanceWarning: indexing past lexsort depth may impact performance.\n",
            "  res = X.loc[row_ind]\n",
            "c:\\ProgramData\\Anaconda3\\envs\\sktime\\lib\\site-packages\\sktime\\datatypes\\_vectorize.py:288: PerformanceWarning: indexing past lexsort depth may impact performance.\n",
            "  res = X[col_ind].loc[row_ind]\n",
            "c:\\ProgramData\\Anaconda3\\envs\\sktime\\lib\\site-packages\\sktime\\datatypes\\_vectorize.py:284: PerformanceWarning: indexing past lexsort depth may impact performance.\n",
            "  res = X.loc[row_ind]\n",
            "c:\\ProgramData\\Anaconda3\\envs\\sktime\\lib\\site-packages\\sktime\\datatypes\\_vectorize.py:288: PerformanceWarning: indexing past lexsort depth may impact performance.\n",
            "  res = X[col_ind].loc[row_ind]\n",
            "c:\\ProgramData\\Anaconda3\\envs\\sktime\\lib\\site-packages\\sktime\\datatypes\\_vectorize.py:284: PerformanceWarning: indexing past lexsort depth may impact performance.\n",
            "  res = X.loc[row_ind]\n",
            "c:\\ProgramData\\Anaconda3\\envs\\sktime\\lib\\site-packages\\sktime\\datatypes\\_vectorize.py:288: PerformanceWarning: indexing past lexsort depth may impact performance.\n",
            "  res = X[col_ind].loc[row_ind]\n",
            "c:\\ProgramData\\Anaconda3\\envs\\sktime\\lib\\site-packages\\sktime\\datatypes\\_vectorize.py:284: PerformanceWarning: indexing past lexsort depth may impact performance.\n",
            "  res = X.loc[row_ind]\n",
            "c:\\ProgramData\\Anaconda3\\envs\\sktime\\lib\\site-packages\\sktime\\datatypes\\_vectorize.py:288: PerformanceWarning: indexing past lexsort depth may impact performance.\n",
            "  res = X[col_ind].loc[row_ind]\n",
            "c:\\ProgramData\\Anaconda3\\envs\\sktime\\lib\\site-packages\\sktime\\datatypes\\_vectorize.py:284: PerformanceWarning: indexing past lexsort depth may impact performance.\n",
            "  res = X.loc[row_ind]\n",
            "c:\\ProgramData\\Anaconda3\\envs\\sktime\\lib\\site-packages\\sktime\\datatypes\\_vectorize.py:288: PerformanceWarning: indexing past lexsort depth may impact performance.\n",
            "  res = X[col_ind].loc[row_ind]\n",
            "c:\\ProgramData\\Anaconda3\\envs\\sktime\\lib\\site-packages\\sktime\\datatypes\\_vectorize.py:284: PerformanceWarning: indexing past lexsort depth may impact performance.\n",
            "  res = X.loc[row_ind]\n",
            "c:\\ProgramData\\Anaconda3\\envs\\sktime\\lib\\site-packages\\sktime\\datatypes\\_vectorize.py:284: PerformanceWarning: indexing past lexsort depth may impact performance.\n",
            "  res = X.loc[row_ind]\n",
            "c:\\ProgramData\\Anaconda3\\envs\\sktime\\lib\\site-packages\\sktime\\datatypes\\_vectorize.py:284: PerformanceWarning: indexing past lexsort depth may impact performance.\n",
            "  res = X.loc[row_ind]\n",
            "c:\\ProgramData\\Anaconda3\\envs\\sktime\\lib\\site-packages\\sktime\\datatypes\\_vectorize.py:284: PerformanceWarning: indexing past lexsort depth may impact performance.\n",
            "  res = X.loc[row_ind]\n",
            "c:\\ProgramData\\Anaconda3\\envs\\sktime\\lib\\site-packages\\sktime\\datatypes\\_vectorize.py:284: PerformanceWarning: indexing past lexsort depth may impact performance.\n",
            "  res = X.loc[row_ind]\n",
            "c:\\ProgramData\\Anaconda3\\envs\\sktime\\lib\\site-packages\\sktime\\datatypes\\_vectorize.py:284: PerformanceWarning: indexing past lexsort depth may impact performance.\n",
            "  res = X.loc[row_ind]\n",
            "c:\\ProgramData\\Anaconda3\\envs\\sktime\\lib\\site-packages\\sktime\\datatypes\\_vectorize.py:284: PerformanceWarning: indexing past lexsort depth may impact performance.\n",
            "  res = X.loc[row_ind]\n",
            "c:\\ProgramData\\Anaconda3\\envs\\sktime\\lib\\site-packages\\sktime\\datatypes\\_vectorize.py:284: PerformanceWarning: indexing past lexsort depth may impact performance.\n",
            "  res = X.loc[row_ind]\n",
            "c:\\ProgramData\\Anaconda3\\envs\\sktime\\lib\\site-packages\\sktime\\datatypes\\_vectorize.py:284: PerformanceWarning: indexing past lexsort depth may impact performance.\n",
            "  res = X.loc[row_ind]\n",
            "c:\\ProgramData\\Anaconda3\\envs\\sktime\\lib\\site-packages\\sktime\\datatypes\\_vectorize.py:284: PerformanceWarning: indexing past lexsort depth may impact performance.\n",
            "  res = X.loc[row_ind]\n"
          ]
        },
        {
          "data": {
            "text/html": [
              "<div>\n",
              "<style scoped>\n",
              "    .dataframe tbody tr th:only-of-type {\n",
              "        vertical-align: middle;\n",
              "    }\n",
              "\n",
              "    .dataframe tbody tr th {\n",
              "        vertical-align: top;\n",
              "    }\n",
              "\n",
              "    .dataframe thead th {\n",
              "        text-align: right;\n",
              "    }\n",
              "</style>\n",
              "<table border=\"1\" class=\"dataframe\">\n",
              "  <thead>\n",
              "    <tr style=\"text-align: right;\">\n",
              "      <th></th>\n",
              "      <th></th>\n",
              "      <th></th>\n",
              "      <th>Quantity</th>\n",
              "    </tr>\n",
              "    <tr>\n",
              "      <th>Store</th>\n",
              "      <th>Brand</th>\n",
              "      <th>WeekStarting</th>\n",
              "      <th></th>\n",
              "    </tr>\n",
              "  </thead>\n",
              "  <tbody>\n",
              "    <tr>\n",
              "      <th rowspan=\"5\" valign=\"top\">2</th>\n",
              "      <th rowspan=\"5\" valign=\"top\">tropicana</th>\n",
              "      <th>1992-05-21</th>\n",
              "      <td>9827.908351</td>\n",
              "    </tr>\n",
              "    <tr>\n",
              "      <th>1992-05-28</th>\n",
              "      <td>9827.908351</td>\n",
              "    </tr>\n",
              "    <tr>\n",
              "      <th>1992-06-04</th>\n",
              "      <td>25383.068697</td>\n",
              "    </tr>\n",
              "    <tr>\n",
              "      <th>1992-06-11</th>\n",
              "      <td>19412.991901</td>\n",
              "    </tr>\n",
              "    <tr>\n",
              "      <th>1992-06-18</th>\n",
              "      <td>30273.417447</td>\n",
              "    </tr>\n",
              "  </tbody>\n",
              "</table>\n",
              "</div>"
            ],
            "text/plain": [
              "                                  Quantity\n",
              "Store Brand     WeekStarting              \n",
              "2     tropicana 1992-05-21     9827.908351\n",
              "                1992-05-28     9827.908351\n",
              "                1992-06-04    25383.068697\n",
              "                1992-06-11    19412.991901\n",
              "                1992-06-18    30273.417447"
            ]
          },
          "execution_count": 6,
          "metadata": {},
          "output_type": "execute_result"
        }
      ],
      "source": [
        "# When using sktime directly we need to drop the time and time series ID columns.\n",
        "model = AutoARIMA(suppress_warnings=True, error_action=\"ignore\")\n",
        "model.fit(y=y_train, X=X_train, fh=fh)\n",
        "model.predict(fh=fh, X=X_test).head()"
      ]
    },
    {
      "cell_type": "code",
      "execution_count": 7,
      "metadata": {},
      "outputs": [
        {
          "name": "stderr",
          "output_type": "stream",
          "text": [
            "c:\\ProgramData\\Anaconda3\\envs\\sktime\\lib\\site-packages\\sktime\\datatypes\\_vectorize.py:284: PerformanceWarning: indexing past lexsort depth may impact performance.\n",
            "  res = X.loc[row_ind]\n",
            "c:\\ProgramData\\Anaconda3\\envs\\sktime\\lib\\site-packages\\sktime\\datatypes\\_vectorize.py:284: PerformanceWarning: indexing past lexsort depth may impact performance.\n",
            "  res = X.loc[row_ind]\n",
            "c:\\ProgramData\\Anaconda3\\envs\\sktime\\lib\\site-packages\\sktime\\datatypes\\_vectorize.py:284: PerformanceWarning: indexing past lexsort depth may impact performance.\n",
            "  res = X.loc[row_ind]\n",
            "c:\\ProgramData\\Anaconda3\\envs\\sktime\\lib\\site-packages\\sktime\\datatypes\\_vectorize.py:284: PerformanceWarning: indexing past lexsort depth may impact performance.\n",
            "  res = X.loc[row_ind]\n",
            "c:\\ProgramData\\Anaconda3\\envs\\sktime\\lib\\site-packages\\sktime\\datatypes\\_vectorize.py:284: PerformanceWarning: indexing past lexsort depth may impact performance.\n",
            "  res = X.loc[row_ind]\n",
            "c:\\ProgramData\\Anaconda3\\envs\\sktime\\lib\\site-packages\\sktime\\datatypes\\_vectorize.py:284: PerformanceWarning: indexing past lexsort depth may impact performance.\n",
            "  res = X.loc[row_ind]\n",
            "c:\\ProgramData\\Anaconda3\\envs\\sktime\\lib\\site-packages\\sktime\\datatypes\\_vectorize.py:284: PerformanceWarning: indexing past lexsort depth may impact performance.\n",
            "  res = X.loc[row_ind]\n",
            "c:\\ProgramData\\Anaconda3\\envs\\sktime\\lib\\site-packages\\sktime\\datatypes\\_vectorize.py:284: PerformanceWarning: indexing past lexsort depth may impact performance.\n",
            "  res = X.loc[row_ind]\n",
            "c:\\ProgramData\\Anaconda3\\envs\\sktime\\lib\\site-packages\\sktime\\datatypes\\_vectorize.py:284: PerformanceWarning: indexing past lexsort depth may impact performance.\n",
            "  res = X.loc[row_ind]\n"
          ]
        },
        {
          "data": {
            "text/html": [
              "<div>\n",
              "<style scoped>\n",
              "    .dataframe tbody tr th:only-of-type {\n",
              "        vertical-align: middle;\n",
              "    }\n",
              "\n",
              "    .dataframe tbody tr th {\n",
              "        vertical-align: top;\n",
              "    }\n",
              "\n",
              "    .dataframe thead tr th {\n",
              "        text-align: left;\n",
              "    }\n",
              "\n",
              "    .dataframe thead tr:last-of-type th {\n",
              "        text-align: right;\n",
              "    }\n",
              "</style>\n",
              "<table border=\"1\" class=\"dataframe\">\n",
              "  <thead>\n",
              "    <tr>\n",
              "      <th></th>\n",
              "      <th></th>\n",
              "      <th></th>\n",
              "      <th colspan=\"2\" halign=\"left\">Quantiles</th>\n",
              "    </tr>\n",
              "    <tr>\n",
              "      <th></th>\n",
              "      <th></th>\n",
              "      <th></th>\n",
              "      <th>0.025</th>\n",
              "      <th>0.975</th>\n",
              "    </tr>\n",
              "    <tr>\n",
              "      <th>Store</th>\n",
              "      <th>Brand</th>\n",
              "      <th>WeekStarting</th>\n",
              "      <th></th>\n",
              "      <th></th>\n",
              "    </tr>\n",
              "  </thead>\n",
              "  <tbody>\n",
              "    <tr>\n",
              "      <th rowspan=\"5\" valign=\"top\">2</th>\n",
              "      <th rowspan=\"5\" valign=\"top\">tropicana</th>\n",
              "      <th>1992-05-21</th>\n",
              "      <td>-561.552783</td>\n",
              "      <td>20217.369486</td>\n",
              "    </tr>\n",
              "    <tr>\n",
              "      <th>1992-05-28</th>\n",
              "      <td>-561.552783</td>\n",
              "      <td>20217.369486</td>\n",
              "    </tr>\n",
              "    <tr>\n",
              "      <th>1992-06-04</th>\n",
              "      <td>14993.607562</td>\n",
              "      <td>35772.529831</td>\n",
              "    </tr>\n",
              "    <tr>\n",
              "      <th>1992-06-11</th>\n",
              "      <td>9023.530767</td>\n",
              "      <td>29802.453036</td>\n",
              "    </tr>\n",
              "    <tr>\n",
              "      <th>1992-06-18</th>\n",
              "      <td>19883.956312</td>\n",
              "      <td>40662.878581</td>\n",
              "    </tr>\n",
              "  </tbody>\n",
              "</table>\n",
              "</div>"
            ],
            "text/plain": [
              "                                 Quantiles              \n",
              "                                     0.025         0.975\n",
              "Store Brand     WeekStarting                            \n",
              "2     tropicana 1992-05-21     -561.552783  20217.369486\n",
              "                1992-05-28     -561.552783  20217.369486\n",
              "                1992-06-04    14993.607562  35772.529831\n",
              "                1992-06-11     9023.530767  29802.453036\n",
              "                1992-06-18    19883.956312  40662.878581"
            ]
          },
          "execution_count": 7,
          "metadata": {},
          "output_type": "execute_result"
        }
      ],
      "source": [
        "model.predict_quantiles(fh=fh, X=X_test, alpha=[0.025, 0.975]).head()"
      ]
    },
    {
      "attachments": {},
      "cell_type": "markdown",
      "metadata": {},
      "source": [
        "# Forecast<a id=\"forecast\"></a>\n",
        "\n",
        "Now that we have retrieved the best pipeline/model, it can be used to make predictions on test data."
      ]
    },
    {
      "attachments": {},
      "cell_type": "markdown",
      "metadata": {},
      "source": [
        "### Retrieving forecasts from the model\n",
        "\n",
        "To produce predictions on the test set, we need to know the feature values at all dates in the test set. This requirement is somewhat reasonable for the OJ sales data since the features mainly consist of price, which is usually set in advance, and customer demographics which are approximately constant for each store over the 20 week forecast horizon in the testing data."
      ]
    },
    {
      "cell_type": "markdown",
      "metadata": {
        "nteract": {
          "transient": {
            "deleting": false
          }
        }
      },
      "source": [
        "Try downloading the model and running forecasts locally."
      ]
    },
    {
      "attachments": {},
      "cell_type": "markdown",
      "metadata": {},
      "source": [
        "# Responsible AI Dashboard<a id=\"analyze\"></a>"
      ]
    },
    {
      "cell_type": "code",
      "execution_count": 8,
      "metadata": {
        "jupyter": {
          "outputs_hidden": false,
          "source_hidden": false
        },
        "nteract": {
          "transient": {
            "deleting": false
          }
        }
      },
      "outputs": [
        {
          "name": "stdout",
          "output_type": "stream",
          "text": [
            "{'start_p': 2, 'd': None, 'start_q': 2, 'max_p': 5, 'max_d': 2, 'max_q': 5, 'start_P': 1, 'D': None, 'start_Q': 1, 'max_P': 2, 'max_D': 1, 'max_Q': 2, 'max_order': 5, 'sp': 1, 'seasonal': True, 'stationary': False, 'information_criterion': 'aic', 'alpha': 0.05, 'test': 'kpss', 'seasonal_test': 'ocsb', 'stepwise': True, 'n_jobs': 1, 'start_params': None, 'trend': None, 'method': 'lbfgs', 'maxiter': 50, 'offset_test_args': None, 'seasonal_test_args': None, 'suppress_warnings': True, 'error_action': 'ignore', 'trace': False, 'random': False, 'random_state': None, 'n_fits': 10, 'out_of_sample_size': 0, 'scoring': 'mse', 'scoring_args': None, 'with_intercept': True, 'update_pdq': True, 'time_varying_regression': False, 'enforce_stationarity': True, 'enforce_invertibility': True, 'simple_differencing': False, 'measurement_error': False, 'mle_regression': True, 'hamilton_representation': False, 'concentrate_scale': False, '_forecaster': None, '_is_fitted': True, '_y':                                 Quantity\n",
            "Store Brand       WeekStarting          \n",
            "2     tropicana   1990-06-14      8256.0\n",
            "                  1990-06-21      7904.0\n",
            "                  1990-06-28      7552.0\n",
            "                  1990-07-05      7200.0\n",
            "                  1990-07-12      6848.0\n",
            "...                                  ...\n",
            "8     minute.maid 1992-04-16      7808.0\n",
            "                  1992-04-23     48064.0\n",
            "                  1992-04-30      7360.0\n",
            "                  1992-05-07      6272.0\n",
            "                  1992-05-14      6400.0\n",
            "\n",
            "[909 rows x 1 columns], '_X':                                 Advert  Price     Age60   COLLEGE     INCOME  \\\n",
            "Store Brand       WeekStarting                                                 \n",
            "2     tropicana   1990-06-14       0.0   3.87  0.232865  0.248935  10.553205   \n",
            "                  1990-06-21       0.0   3.87  0.232865  0.248935  10.553205   \n",
            "                  1990-06-28       0.0   3.87  0.232865  0.248935  10.553205   \n",
            "                  1990-07-05       0.0   3.87  0.232865  0.248935  10.553205   \n",
            "                  1990-07-12       0.0   3.87  0.232865  0.248935  10.553205   \n",
            "...                                ...    ...       ...       ...        ...   \n",
            "8     minute.maid 1992-04-16       0.0   2.39  0.252394  0.095173  10.597010   \n",
            "                  1992-04-23       1.0   1.79  0.252394  0.095173  10.597010   \n",
            "                  1992-04-30       0.0   2.39  0.252394  0.095173  10.597010   \n",
            "                  1992-05-07       0.0   2.39  0.252394  0.095173  10.597010   \n",
            "                  1992-05-14       0.0   2.39  0.252394  0.095173  10.597010   \n",
            "\n",
            "                                Hincome150  Large HH  Minorities  \\\n",
            "Store Brand       WeekStarting                                     \n",
            "2     tropicana   1990-06-14      0.463887  0.103953    0.114280   \n",
            "                  1990-06-21      0.463887  0.103953    0.114280   \n",
            "                  1990-06-28      0.463887  0.103953    0.114280   \n",
            "                  1990-07-05      0.463887  0.103953    0.114280   \n",
            "                  1990-07-12      0.463887  0.103953    0.114280   \n",
            "...                                    ...       ...         ...   \n",
            "8     minute.maid 1992-04-16      0.054227  0.131750    0.035243   \n",
            "                  1992-04-23      0.054227  0.131750    0.035243   \n",
            "                  1992-04-30      0.054227  0.131750    0.035243   \n",
            "                  1992-05-07      0.054227  0.131750    0.035243   \n",
            "                  1992-05-14      0.054227  0.131750    0.035243   \n",
            "\n",
            "                                WorkingWoman  SSTRDIST   SSTRVOL   CPDIST5  \\\n",
            "Store Brand       WeekStarting                                               \n",
            "2     tropicana   1990-06-14        0.303585  2.110122  1.142857  1.927280   \n",
            "                  1990-06-21        0.303585  2.110122  1.142857  1.927280   \n",
            "                  1990-06-28        0.303585  2.110122  1.142857  1.927280   \n",
            "                  1990-07-05        0.303585  2.110122  1.142857  1.927280   \n",
            "                  1990-07-12        0.303585  2.110122  1.142857  1.927280   \n",
            "...                                      ...       ...       ...       ...   \n",
            "8     minute.maid 1992-04-16        0.283075  2.636333  1.500000  2.905384   \n",
            "                  1992-04-23        0.283075  2.636333  1.500000  2.905384   \n",
            "                  1992-04-30        0.283075  2.636333  1.500000  2.905384   \n",
            "                  1992-05-07        0.283075  2.636333  1.500000  2.905384   \n",
            "                  1992-05-14        0.283075  2.636333  1.500000  2.905384   \n",
            "\n",
            "                                 CPWVOL5  \n",
            "Store Brand       WeekStarting            \n",
            "2     tropicana   1990-06-14    0.376927  \n",
            "                  1990-06-21    0.376927  \n",
            "                  1990-06-28    0.376927  \n",
            "                  1990-07-05    0.376927  \n",
            "                  1990-07-12    0.376927  \n",
            "...                                  ...  \n",
            "8     minute.maid 1992-04-16    0.641016  \n",
            "                  1992-04-23    0.641016  \n",
            "                  1992-04-30    0.641016  \n",
            "                  1992-05-07    0.641016  \n",
            "                  1992-05-14    0.641016  \n",
            "\n",
            "[909 rows x 13 columns], '_fh': ForecastingHorizon(['1992-05-21', '1992-05-28', '1992-06-04', '1992-06-11',\n",
            "               '1992-06-18', '1992-06-25', '1992-07-02', '1992-07-09',\n",
            "               '1992-07-16', '1992-07-23', '1992-07-30', '1992-08-06',\n",
            "               '1992-08-13', '1992-08-20', '1992-08-27', '1992-09-03',\n",
            "               '1992-09-10', '1992-09-17', '1992-09-24', '1992-10-01'],\n",
            "              dtype='datetime64[ns]', freq='W-THU', is_relative=False), '_cutoff': DatetimeIndex(['1992-05-14'], dtype='datetime64[ns]', name='WeekStarting', freq=None), '_converter_store_y': {}, '_tags_dynamic': {}, '_sp': 1, '_y_mtype_last_seen': 'pd_multiindex_hier', '_is_vectorized': True, '_yvec': <sktime.datatypes._vectorize.VectorizedDF object at 0x000001AC4DC2DA00>, 'forecasters_':                                                          forecasters\n",
            "Store Brand                                                         \n",
            "2     tropicana    AutoARIMA(error_action='ignore', suppress_warn...\n",
            "      dominicks    AutoARIMA(error_action='ignore', suppress_warn...\n",
            "      minute.maid  AutoARIMA(error_action='ignore', suppress_warn...\n",
            "5     tropicana    AutoARIMA(error_action='ignore', suppress_warn...\n",
            "      dominicks    AutoARIMA(error_action='ignore', suppress_warn...\n",
            "      minute.maid  AutoARIMA(error_action='ignore', suppress_warn...\n",
            "8     tropicana    AutoARIMA(error_action='ignore', suppress_warn...\n",
            "      dominicks    AutoARIMA(error_action='ignore', suppress_warn...\n",
            "      minute.maid  AutoARIMA(error_action='ignore', suppress_warn...}\n",
            "\n",
            "{'_eval_function': None, '_model': AutoARIMA(error_action='ignore', suppress_warnings=True), '_examples':                                 Advert  Price     Age60   COLLEGE     INCOME  \\\n",
            "Store Brand       WeekStarting                                                 \n",
            "2     tropicana   1992-05-21       0.0   3.19  0.232865  0.248935  10.553205   \n",
            "                  1992-05-28       0.0   3.19  0.232865  0.248935  10.553205   \n",
            "                  1992-06-04       1.0   2.49  0.232865  0.248935  10.553205   \n",
            "                  1992-06-11       0.0   2.21  0.232865  0.248935  10.553205   \n",
            "                  1992-06-18       1.0   1.99  0.232865  0.248935  10.553205   \n",
            "...                                ...    ...       ...       ...        ...   \n",
            "8     minute.maid 1992-09-03       0.0   1.69  0.252394  0.095173  10.597010   \n",
            "                  1992-09-10       1.0   1.99  0.252394  0.095173  10.597010   \n",
            "                  1992-09-17       0.0   2.49  0.252394  0.095173  10.597010   \n",
            "                  1992-09-24       0.0   2.49  0.252394  0.095173  10.597010   \n",
            "                  1992-10-01       1.0   2.19  0.252394  0.095173  10.597010   \n",
            "\n",
            "                                Hincome150  Large HH  Minorities  \\\n",
            "Store Brand       WeekStarting                                     \n",
            "2     tropicana   1992-05-21      0.463887  0.103953    0.114280   \n",
            "                  1992-05-28      0.463887  0.103953    0.114280   \n",
            "                  1992-06-04      0.463887  0.103953    0.114280   \n",
            "                  1992-06-11      0.463887  0.103953    0.114280   \n",
            "                  1992-06-18      0.463887  0.103953    0.114280   \n",
            "...                                    ...       ...         ...   \n",
            "8     minute.maid 1992-09-03      0.054227  0.131750    0.035243   \n",
            "                  1992-09-10      0.054227  0.131750    0.035243   \n",
            "                  1992-09-17      0.054227  0.131750    0.035243   \n",
            "                  1992-09-24      0.054227  0.131750    0.035243   \n",
            "                  1992-10-01      0.054227  0.131750    0.035243   \n",
            "\n",
            "                                WorkingWoman  SSTRDIST   SSTRVOL   CPDIST5  \\\n",
            "Store Brand       WeekStarting                                               \n",
            "2     tropicana   1992-05-21        0.303585  2.110122  1.142857  1.927280   \n",
            "                  1992-05-28        0.303585  2.110122  1.142857  1.927280   \n",
            "                  1992-06-04        0.303585  2.110122  1.142857  1.927280   \n",
            "                  1992-06-11        0.303585  2.110122  1.142857  1.927280   \n",
            "                  1992-06-18        0.303585  2.110122  1.142857  1.927280   \n",
            "...                                      ...       ...       ...       ...   \n",
            "8     minute.maid 1992-09-03        0.283075  2.636333  1.500000  2.905384   \n",
            "                  1992-09-10        0.283075  2.636333  1.500000  2.905384   \n",
            "                  1992-09-17        0.283075  2.636333  1.500000  2.905384   \n",
            "                  1992-09-24        0.283075  2.636333  1.500000  2.905384   \n",
            "                  1992-10-01        0.283075  2.636333  1.500000  2.905384   \n",
            "\n",
            "                                 CPWVOL5  Store        Brand WeekStarting  \n",
            "Store Brand       WeekStarting                                             \n",
            "2     tropicana   1992-05-21    0.376927      2    tropicana   1992-05-21  \n",
            "                  1992-05-28    0.376927      2    tropicana   1992-05-28  \n",
            "                  1992-06-04    0.376927      2    tropicana   1992-06-04  \n",
            "                  1992-06-11    0.376927      2    tropicana   1992-06-11  \n",
            "                  1992-06-18    0.376927      2    tropicana   1992-06-18  \n",
            "...                                  ...    ...          ...          ...  \n",
            "8     minute.maid 1992-09-03    0.641016      8  minute.maid   1992-09-03  \n",
            "                  1992-09-10    0.641016      8  minute.maid   1992-09-10  \n",
            "                  1992-09-17    0.641016      8  minute.maid   1992-09-17  \n",
            "                  1992-09-24    0.641016      8  minute.maid   1992-09-24  \n",
            "                  1992-10-01    0.641016      8  minute.maid   1992-10-01  \n",
            "\n",
            "[180 rows x 16 columns], '_model_task': <ModelTask.FORECASTING: 'forecasting'>, '_model_package': 'sktime', '_time_feature': 'WeekStarting', '_time_series_id_features': ['Store', 'Brand']}\n",
            "ForecastingHorizon(['1992-05-21'], dtype='datetime64[ns]', freq=None, is_relative=False)\n"
          ]
        },
        {
          "name": "stderr",
          "output_type": "stream",
          "text": [
            "indexing past lexsort depth may impact performance.\n",
            "indexing past lexsort depth may impact performance.\n",
            "indexing past lexsort depth may impact performance.\n",
            "indexing past lexsort depth may impact performance.\n",
            "indexing past lexsort depth may impact performance.\n",
            "indexing past lexsort depth may impact performance.\n",
            "indexing past lexsort depth may impact performance.\n",
            "indexing past lexsort depth may impact performance.\n",
            "indexing past lexsort depth may impact performance.\n"
          ]
        },
        {
          "name": "stdout",
          "output_type": "stream",
          "text": [
            "ForecastingHorizon(['1992-05-21'], dtype='datetime64[ns]', freq=None, is_relative=False)\n",
            "ForecastingHorizon(['1992-05-21'], dtype='datetime64[ns]', freq=None, is_relative=False)\n"
          ]
        },
        {
          "name": "stderr",
          "output_type": "stream",
          "text": [
            "indexing past lexsort depth may impact performance.\n",
            "indexing past lexsort depth may impact performance.\n",
            "indexing past lexsort depth may impact performance.\n",
            "indexing past lexsort depth may impact performance.\n",
            "indexing past lexsort depth may impact performance.\n",
            "indexing past lexsort depth may impact performance.\n",
            "indexing past lexsort depth may impact performance.\n",
            "indexing past lexsort depth may impact performance.\n",
            "indexing past lexsort depth may impact performance.\n",
            "indexing past lexsort depth may impact performance.\n"
          ]
        },
        {
          "name": "stdout",
          "output_type": "stream",
          "text": [
            "ForecastingHorizon(['1992-05-21', '1992-05-28', '1992-06-04', '1992-06-11',\n",
            "               '1992-06-18', '1992-06-25', '1992-07-02', '1992-07-09',\n",
            "               '1992-07-16', '1992-07-23', '1992-07-30', '1992-08-06',\n",
            "               '1992-08-13', '1992-08-20', '1992-08-27', '1992-09-03',\n",
            "               '1992-09-10', '1992-09-17', '1992-09-24', '1992-10-01'],\n",
            "              dtype='datetime64[ns]', freq=None, is_relative=False)\n"
          ]
        },
        {
          "name": "stderr",
          "output_type": "stream",
          "text": [
            "indexing past lexsort depth may impact performance.\n",
            "indexing past lexsort depth may impact performance.\n",
            "indexing past lexsort depth may impact performance.\n",
            "indexing past lexsort depth may impact performance.\n",
            "indexing past lexsort depth may impact performance.\n",
            "indexing past lexsort depth may impact performance.\n",
            "indexing past lexsort depth may impact performance.\n",
            "indexing past lexsort depth may impact performance.\n"
          ]
        },
        {
          "name": "stdout",
          "output_type": "stream",
          "text": [
            "ForecastingHorizon(['1992-05-21', '1992-05-28', '1992-06-04', '1992-06-11',\n",
            "               '1992-06-18', '1992-06-25', '1992-07-02', '1992-07-09',\n",
            "               '1992-07-16', '1992-07-23', '1992-07-30', '1992-08-06',\n",
            "               '1992-08-13', '1992-08-20', '1992-08-27', '1992-09-03',\n",
            "               '1992-09-10', '1992-09-17', '1992-09-24', '1992-10-01'],\n",
            "              dtype='datetime64[ns]', freq=None, is_relative=False)\n",
            "ForecastingHorizon(['1992-05-21', '1992-05-28', '1992-06-04', '1992-06-11',\n",
            "               '1992-06-18', '1992-06-25', '1992-07-02', '1992-07-09',\n",
            "               '1992-07-16', '1992-07-23', '1992-07-30', '1992-08-06',\n",
            "               '1992-08-13', '1992-08-20', '1992-08-27', '1992-09-03',\n",
            "               '1992-09-10', '1992-09-17', '1992-09-24', '1992-10-01'],\n",
            "              dtype='datetime64[ns]', freq=None, is_relative=False)\n"
          ]
        },
        {
          "name": "stderr",
          "output_type": "stream",
          "text": [
            "indexing past lexsort depth may impact performance.\n",
            "indexing past lexsort depth may impact performance.\n",
            "indexing past lexsort depth may impact performance.\n",
            "indexing past lexsort depth may impact performance.\n",
            "indexing past lexsort depth may impact performance.\n",
            "indexing past lexsort depth may impact performance.\n",
            "indexing past lexsort depth may impact performance.\n",
            "indexing past lexsort depth may impact performance.\n",
            "indexing past lexsort depth may impact performance.\n"
          ]
        },
        {
          "name": "stdout",
          "output_type": "stream",
          "text": [
            "ForecastingHorizon(['1992-05-21', '1992-05-28', '1992-06-04', '1992-06-11',\n",
            "               '1992-06-18', '1992-06-25', '1992-07-02', '1992-07-09',\n",
            "               '1992-07-16', '1992-07-23', '1992-07-30', '1992-08-06',\n",
            "               '1992-08-13', '1992-08-20', '1992-08-27', '1992-09-03',\n",
            "               '1992-09-10', '1992-09-17', '1992-09-24', '1992-10-01'],\n",
            "              dtype='datetime64[ns]', freq=None, is_relative=False)\n",
            "ForecastingHorizon(['1992-05-21', '1992-05-28', '1992-06-04', '1992-06-11',\n",
            "               '1992-06-18', '1992-06-25', '1992-07-02', '1992-07-09',\n",
            "               '1992-07-16', '1992-07-23', '1992-07-30', '1992-08-06',\n",
            "               '1992-08-13', '1992-08-20', '1992-08-27', '1992-09-03',\n",
            "               '1992-09-10', '1992-09-17', '1992-09-24', '1992-10-01'],\n",
            "              dtype='datetime64[ns]', freq=None, is_relative=False)\n"
          ]
        },
        {
          "name": "stderr",
          "output_type": "stream",
          "text": [
            "indexing past lexsort depth may impact performance.\n",
            "indexing past lexsort depth may impact performance.\n",
            "indexing past lexsort depth may impact performance.\n",
            "indexing past lexsort depth may impact performance.\n",
            "indexing past lexsort depth may impact performance.\n",
            "indexing past lexsort depth may impact performance.\n",
            "indexing past lexsort depth may impact performance.\n",
            "indexing past lexsort depth may impact performance.\n",
            "indexing past lexsort depth may impact performance.\n"
          ]
        },
        {
          "ename": "ValueError",
          "evalue": "'Store' is both an index level and a column label, which is ambiguous.",
          "output_type": "error",
          "traceback": [
            "\u001b[1;31m---------------------------------------------------------------------------\u001b[0m",
            "\u001b[1;31mValueError\u001b[0m                                Traceback (most recent call last)",
            "Cell \u001b[1;32mIn[8], line 21\u001b[0m\n\u001b[0;32m      8\u001b[0m feature_metadata \u001b[39m=\u001b[39m FeatureMetadata(\n\u001b[0;32m      9\u001b[0m     time_series_id_features\u001b[39m=\u001b[39mtime_series_id_column_names, \n\u001b[0;32m     10\u001b[0m     categorical_features\u001b[39m=\u001b[39mtime_series_id_column_names,\n\u001b[0;32m     11\u001b[0m     datetime_features\u001b[39m=\u001b[39m[time_column_name])\n\u001b[0;32m     12\u001b[0m insights \u001b[39m=\u001b[39m RAIInsights(\n\u001b[0;32m     13\u001b[0m     model\u001b[39m=\u001b[39mmodel,\n\u001b[0;32m     14\u001b[0m     train\u001b[39m=\u001b[39mtrain,\n\u001b[1;32m   (...)\u001b[0m\n\u001b[0;32m     18\u001b[0m     feature_metadata\u001b[39m=\u001b[39mfeature_metadata,\n\u001b[0;32m     19\u001b[0m     forecasting_enabled\u001b[39m=\u001b[39m\u001b[39mTrue\u001b[39;00m)\n\u001b[1;32m---> 21\u001b[0m ResponsibleAIDashboard(insights)\n",
            "File \u001b[1;32mc:\\users\\roman\\git\\responsible-ai-toolbox\\raiwidgets\\raiwidgets\\responsibleai_dashboard.py:36\u001b[0m, in \u001b[0;36mResponsibleAIDashboard.__init__\u001b[1;34m(self, analysis, public_ip, port, locale, cohort_list, **kwargs)\u001b[0m\n\u001b[0;32m     33\u001b[0m \u001b[39mdef\u001b[39;00m \u001b[39m__init__\u001b[39m(\u001b[39mself\u001b[39m, analysis: RAIInsights,\n\u001b[0;32m     34\u001b[0m              public_ip\u001b[39m=\u001b[39m\u001b[39mNone\u001b[39;00m, port\u001b[39m=\u001b[39m\u001b[39mNone\u001b[39;00m, locale\u001b[39m=\u001b[39m\u001b[39mNone\u001b[39;00m,\n\u001b[0;32m     35\u001b[0m              cohort_list\u001b[39m=\u001b[39m\u001b[39mNone\u001b[39;00m, \u001b[39m*\u001b[39m\u001b[39m*\u001b[39mkwargs):\n\u001b[1;32m---> 36\u001b[0m     \u001b[39mself\u001b[39m\u001b[39m.\u001b[39minput \u001b[39m=\u001b[39m ResponsibleAIDashboardInput(\n\u001b[0;32m     37\u001b[0m         analysis, cohort_list\u001b[39m=\u001b[39;49mcohort_list)\n\u001b[0;32m     39\u001b[0m     \u001b[39msuper\u001b[39m(ResponsibleAIDashboard, \u001b[39mself\u001b[39m)\u001b[39m.\u001b[39m\u001b[39m__init__\u001b[39m(\n\u001b[0;32m     40\u001b[0m         dashboard_type\u001b[39m=\u001b[39m\u001b[39m\"\u001b[39m\u001b[39mResponsibleAI\u001b[39m\u001b[39m\"\u001b[39m,\n\u001b[0;32m     41\u001b[0m         model_data\u001b[39m=\u001b[39m\u001b[39mself\u001b[39m\u001b[39m.\u001b[39minput\u001b[39m.\u001b[39mdashboard_input,\n\u001b[1;32m   (...)\u001b[0m\n\u001b[0;32m     45\u001b[0m         no_inline_dashboard\u001b[39m=\u001b[39m\u001b[39mTrue\u001b[39;00m,\n\u001b[0;32m     46\u001b[0m         \u001b[39m*\u001b[39m\u001b[39m*\u001b[39mkwargs)\n\u001b[0;32m     48\u001b[0m     \u001b[39mdef\u001b[39;00m \u001b[39mpredict\u001b[39m():\n",
            "File \u001b[1;32mc:\\users\\roman\\git\\responsible-ai-toolbox\\raiwidgets\\raiwidgets\\responsibleai_dashboard_input.py:44\u001b[0m, in \u001b[0;36mResponsibleAIDashboardInput.__init__\u001b[1;34m(self, analysis, cohort_list)\u001b[0m\n\u001b[0;32m     41\u001b[0m \u001b[39mself\u001b[39m\u001b[39m.\u001b[39m_is_classifier \u001b[39m=\u001b[39m is_classifier(model)\n\u001b[0;32m     42\u001b[0m \u001b[39mself\u001b[39m\u001b[39m.\u001b[39mdashboard_input \u001b[39m=\u001b[39m analysis\u001b[39m.\u001b[39mget_data()\n\u001b[1;32m---> 44\u001b[0m \u001b[39mself\u001b[39;49m\u001b[39m.\u001b[39;49m_validate_cohort_list(cohort_list)\n\u001b[0;32m     46\u001b[0m \u001b[39mself\u001b[39m\u001b[39m.\u001b[39m_feature_length \u001b[39m=\u001b[39m \u001b[39mlen\u001b[39m(\u001b[39mself\u001b[39m\u001b[39m.\u001b[39mdashboard_input\u001b[39m.\u001b[39mdataset\u001b[39m.\u001b[39mfeature_names)\n\u001b[0;32m     47\u001b[0m \u001b[39mif\u001b[39;00m \u001b[39mhasattr\u001b[39m(analysis, ManagerNames\u001b[39m.\u001b[39mERROR_ANALYSIS):\n",
            "File \u001b[1;32mc:\\users\\roman\\git\\responsible-ai-toolbox\\raiwidgets\\raiwidgets\\responsibleai_dashboard_input.py:86\u001b[0m, in \u001b[0;36mResponsibleAIDashboardInput._validate_cohort_list\u001b[1;34m(self, cohort_list)\u001b[0m\n\u001b[0;32m     83\u001b[0m         \u001b[39mraise\u001b[39;00m UserConfigValidationException(\n\u001b[0;32m     84\u001b[0m             \u001b[39m\"\u001b[39m\u001b[39mcohort_list is not supported for forecasting analysis.\u001b[39m\u001b[39m\"\u001b[39m)\n\u001b[0;32m     85\u001b[0m     \u001b[39m# use generated time series\u001b[39;00m\n\u001b[1;32m---> 86\u001b[0m     cohort_list \u001b[39m=\u001b[39m \u001b[39mself\u001b[39;49m\u001b[39m.\u001b[39;49m_generate_time_series_cohorts()\n\u001b[0;32m     88\u001b[0m \u001b[39mif\u001b[39;00m \u001b[39mnot\u001b[39;00m \u001b[39misinstance\u001b[39m(cohort_list, \u001b[39mlist\u001b[39m):\n\u001b[0;32m     89\u001b[0m     \u001b[39mraise\u001b[39;00m UserConfigValidationException(\n\u001b[0;32m     90\u001b[0m         \u001b[39m\"\u001b[39m\u001b[39mcohort_list parameter should be a list.\u001b[39m\u001b[39m\"\u001b[39m)\n",
            "File \u001b[1;32mc:\\users\\roman\\git\\responsible-ai-toolbox\\raiwidgets\\raiwidgets\\responsibleai_dashboard_input.py:54\u001b[0m, in \u001b[0;36mResponsibleAIDashboardInput._generate_time_series_cohorts\u001b[1;34m(self)\u001b[0m\n\u001b[0;32m     52\u001b[0m cohort_list \u001b[39m=\u001b[39m []\n\u001b[0;32m     53\u001b[0m ts_id_cols \u001b[39m=\u001b[39m \u001b[39mself\u001b[39m\u001b[39m.\u001b[39m_analysis\u001b[39m.\u001b[39m_feature_metadata\u001b[39m.\u001b[39mtime_series_id_features\n\u001b[1;32m---> 54\u001b[0m all_time_series \u001b[39m=\u001b[39m \u001b[39mself\u001b[39;49m\u001b[39m.\u001b[39;49m_analysis\u001b[39m.\u001b[39;49mtest[ts_id_cols]\u001b[39m.\u001b[39;49mvalue_counts()\u001b[39m.\u001b[39mindex\n\u001b[0;32m     55\u001b[0m \u001b[39mfor\u001b[39;00m time_series_id_values \u001b[39min\u001b[39;00m all_time_series:\n\u001b[0;32m     56\u001b[0m     column_value_combinations \u001b[39m=\u001b[39m \u001b[39mzip\u001b[39m(\n\u001b[0;32m     57\u001b[0m         ts_id_cols,\n\u001b[0;32m     58\u001b[0m         time_series_id_values)\n",
            "File \u001b[1;32mc:\\ProgramData\\Anaconda3\\envs\\sktime\\lib\\site-packages\\pandas\\core\\frame.py:7218\u001b[0m, in \u001b[0;36mDataFrame.value_counts\u001b[1;34m(self, subset, normalize, sort, ascending, dropna)\u001b[0m\n\u001b[0;32m   7215\u001b[0m \u001b[39mif\u001b[39;00m subset \u001b[39mis\u001b[39;00m \u001b[39mNone\u001b[39;00m:\n\u001b[0;32m   7216\u001b[0m     subset \u001b[39m=\u001b[39m \u001b[39mself\u001b[39m\u001b[39m.\u001b[39mcolumns\u001b[39m.\u001b[39mtolist()\n\u001b[1;32m-> 7218\u001b[0m counts \u001b[39m=\u001b[39m \u001b[39mself\u001b[39;49m\u001b[39m.\u001b[39;49mgroupby(subset, dropna\u001b[39m=\u001b[39;49mdropna)\u001b[39m.\u001b[39mgrouper\u001b[39m.\u001b[39msize()\n\u001b[0;32m   7220\u001b[0m \u001b[39mif\u001b[39;00m sort:\n\u001b[0;32m   7221\u001b[0m     counts \u001b[39m=\u001b[39m counts\u001b[39m.\u001b[39msort_values(ascending\u001b[39m=\u001b[39mascending)\n",
            "File \u001b[1;32mc:\\ProgramData\\Anaconda3\\envs\\sktime\\lib\\site-packages\\pandas\\core\\frame.py:8402\u001b[0m, in \u001b[0;36mDataFrame.groupby\u001b[1;34m(self, by, axis, level, as_index, sort, group_keys, squeeze, observed, dropna)\u001b[0m\n\u001b[0;32m   8399\u001b[0m     \u001b[39mraise\u001b[39;00m \u001b[39mTypeError\u001b[39;00m(\u001b[39m\"\u001b[39m\u001b[39mYou have to supply one of \u001b[39m\u001b[39m'\u001b[39m\u001b[39mby\u001b[39m\u001b[39m'\u001b[39m\u001b[39m and \u001b[39m\u001b[39m'\u001b[39m\u001b[39mlevel\u001b[39m\u001b[39m'\u001b[39m\u001b[39m\"\u001b[39m)\n\u001b[0;32m   8400\u001b[0m axis \u001b[39m=\u001b[39m \u001b[39mself\u001b[39m\u001b[39m.\u001b[39m_get_axis_number(axis)\n\u001b[1;32m-> 8402\u001b[0m \u001b[39mreturn\u001b[39;00m DataFrameGroupBy(\n\u001b[0;32m   8403\u001b[0m     obj\u001b[39m=\u001b[39;49m\u001b[39mself\u001b[39;49m,\n\u001b[0;32m   8404\u001b[0m     keys\u001b[39m=\u001b[39;49mby,\n\u001b[0;32m   8405\u001b[0m     axis\u001b[39m=\u001b[39;49maxis,\n\u001b[0;32m   8406\u001b[0m     level\u001b[39m=\u001b[39;49mlevel,\n\u001b[0;32m   8407\u001b[0m     as_index\u001b[39m=\u001b[39;49mas_index,\n\u001b[0;32m   8408\u001b[0m     sort\u001b[39m=\u001b[39;49msort,\n\u001b[0;32m   8409\u001b[0m     group_keys\u001b[39m=\u001b[39;49mgroup_keys,\n\u001b[0;32m   8410\u001b[0m     squeeze\u001b[39m=\u001b[39;49msqueeze,\n\u001b[0;32m   8411\u001b[0m     observed\u001b[39m=\u001b[39;49mobserved,\n\u001b[0;32m   8412\u001b[0m     dropna\u001b[39m=\u001b[39;49mdropna,\n\u001b[0;32m   8413\u001b[0m )\n",
            "File \u001b[1;32mc:\\ProgramData\\Anaconda3\\envs\\sktime\\lib\\site-packages\\pandas\\core\\groupby\\groupby.py:965\u001b[0m, in \u001b[0;36mGroupBy.__init__\u001b[1;34m(self, obj, keys, axis, level, grouper, exclusions, selection, as_index, sort, group_keys, squeeze, observed, mutated, dropna)\u001b[0m\n\u001b[0;32m    962\u001b[0m \u001b[39mif\u001b[39;00m grouper \u001b[39mis\u001b[39;00m \u001b[39mNone\u001b[39;00m:\n\u001b[0;32m    963\u001b[0m     \u001b[39mfrom\u001b[39;00m \u001b[39mpandas\u001b[39;00m\u001b[39m.\u001b[39;00m\u001b[39mcore\u001b[39;00m\u001b[39m.\u001b[39;00m\u001b[39mgroupby\u001b[39;00m\u001b[39m.\u001b[39;00m\u001b[39mgrouper\u001b[39;00m \u001b[39mimport\u001b[39;00m get_grouper\n\u001b[1;32m--> 965\u001b[0m     grouper, exclusions, obj \u001b[39m=\u001b[39m get_grouper(\n\u001b[0;32m    966\u001b[0m         obj,\n\u001b[0;32m    967\u001b[0m         keys,\n\u001b[0;32m    968\u001b[0m         axis\u001b[39m=\u001b[39;49maxis,\n\u001b[0;32m    969\u001b[0m         level\u001b[39m=\u001b[39;49mlevel,\n\u001b[0;32m    970\u001b[0m         sort\u001b[39m=\u001b[39;49msort,\n\u001b[0;32m    971\u001b[0m         observed\u001b[39m=\u001b[39;49mobserved,\n\u001b[0;32m    972\u001b[0m         mutated\u001b[39m=\u001b[39;49m\u001b[39mself\u001b[39;49m\u001b[39m.\u001b[39;49mmutated,\n\u001b[0;32m    973\u001b[0m         dropna\u001b[39m=\u001b[39;49m\u001b[39mself\u001b[39;49m\u001b[39m.\u001b[39;49mdropna,\n\u001b[0;32m    974\u001b[0m     )\n\u001b[0;32m    976\u001b[0m \u001b[39mself\u001b[39m\u001b[39m.\u001b[39mobj \u001b[39m=\u001b[39m obj\n\u001b[0;32m    977\u001b[0m \u001b[39mself\u001b[39m\u001b[39m.\u001b[39maxis \u001b[39m=\u001b[39m obj\u001b[39m.\u001b[39m_get_axis_number(axis)\n",
            "File \u001b[1;32mc:\\ProgramData\\Anaconda3\\envs\\sktime\\lib\\site-packages\\pandas\\core\\groupby\\grouper.py:878\u001b[0m, in \u001b[0;36mget_grouper\u001b[1;34m(obj, key, axis, level, sort, observed, mutated, validate, dropna)\u001b[0m\n\u001b[0;32m    876\u001b[0m \u001b[39mif\u001b[39;00m gpr \u001b[39min\u001b[39;00m obj:\n\u001b[0;32m    877\u001b[0m     \u001b[39mif\u001b[39;00m validate:\n\u001b[1;32m--> 878\u001b[0m         obj\u001b[39m.\u001b[39;49m_check_label_or_level_ambiguity(gpr, axis\u001b[39m=\u001b[39;49maxis)\n\u001b[0;32m    879\u001b[0m     in_axis, name, gpr \u001b[39m=\u001b[39m \u001b[39mTrue\u001b[39;00m, gpr, obj[gpr]\n\u001b[0;32m    880\u001b[0m     \u001b[39mif\u001b[39;00m gpr\u001b[39m.\u001b[39mndim \u001b[39m!=\u001b[39m \u001b[39m1\u001b[39m:\n\u001b[0;32m    881\u001b[0m         \u001b[39m# non-unique columns; raise here to get the name in the\u001b[39;00m\n\u001b[0;32m    882\u001b[0m         \u001b[39m# exception message\u001b[39;00m\n",
            "File \u001b[1;32mc:\\ProgramData\\Anaconda3\\envs\\sktime\\lib\\site-packages\\pandas\\core\\generic.py:1797\u001b[0m, in \u001b[0;36mNDFrame._check_label_or_level_ambiguity\u001b[1;34m(self, key, axis)\u001b[0m\n\u001b[0;32m   1789\u001b[0m label_article, label_type \u001b[39m=\u001b[39m (\n\u001b[0;32m   1790\u001b[0m     (\u001b[39m\"\u001b[39m\u001b[39ma\u001b[39m\u001b[39m\"\u001b[39m, \u001b[39m\"\u001b[39m\u001b[39mcolumn\u001b[39m\u001b[39m\"\u001b[39m) \u001b[39mif\u001b[39;00m axis \u001b[39m==\u001b[39m \u001b[39m0\u001b[39m \u001b[39melse\u001b[39;00m (\u001b[39m\"\u001b[39m\u001b[39man\u001b[39m\u001b[39m\"\u001b[39m, \u001b[39m\"\u001b[39m\u001b[39mindex\u001b[39m\u001b[39m\"\u001b[39m)\n\u001b[0;32m   1791\u001b[0m )\n\u001b[0;32m   1793\u001b[0m msg \u001b[39m=\u001b[39m (\n\u001b[0;32m   1794\u001b[0m     \u001b[39mf\u001b[39m\u001b[39m\"\u001b[39m\u001b[39m'\u001b[39m\u001b[39m{\u001b[39;00mkey\u001b[39m}\u001b[39;00m\u001b[39m'\u001b[39m\u001b[39m is both \u001b[39m\u001b[39m{\u001b[39;00mlevel_article\u001b[39m}\u001b[39;00m\u001b[39m \u001b[39m\u001b[39m{\u001b[39;00mlevel_type\u001b[39m}\u001b[39;00m\u001b[39m level and \u001b[39m\u001b[39m\"\u001b[39m\n\u001b[0;32m   1795\u001b[0m     \u001b[39mf\u001b[39m\u001b[39m\"\u001b[39m\u001b[39m{\u001b[39;00mlabel_article\u001b[39m}\u001b[39;00m\u001b[39m \u001b[39m\u001b[39m{\u001b[39;00mlabel_type\u001b[39m}\u001b[39;00m\u001b[39m label, which is ambiguous.\u001b[39m\u001b[39m\"\u001b[39m\n\u001b[0;32m   1796\u001b[0m )\n\u001b[1;32m-> 1797\u001b[0m \u001b[39mraise\u001b[39;00m \u001b[39mValueError\u001b[39;00m(msg)\n",
            "\u001b[1;31mValueError\u001b[0m: 'Store' is both an index level and a column label, which is ambiguous."
          ]
        }
      ],
      "source": [
        "from raiwidgets import ResponsibleAIDashboard\n",
        "from responsibleai import RAIInsights, FeatureMetadata\n",
        "\n",
        "# merge X, y, and the time and time series ID features into a single DataFrame\n",
        "train = X_train.join(y_train).join(X_train.index.to_frame(index=True))\n",
        "test = X_test.join(y_test).join(X_test.index.to_frame(index=True))\n",
        "train.reset_index(drop=True, inplace=True)\n",
        "test.reset_index(drop=True, inplace=True)\n",
        "\n",
        "feature_metadata = FeatureMetadata(\n",
        "    time_series_id_features=time_series_id_column_names, \n",
        "    categorical_features=time_series_id_column_names,\n",
        "    datetime_features=[time_column_name])\n",
        "insights = RAIInsights(\n",
        "    model=model,\n",
        "    train=train,\n",
        "    test=test,\n",
        "    task_type=\"forecasting\",\n",
        "    target_column=target_column_name,\n",
        "    feature_metadata=feature_metadata,\n",
        "    forecasting_enabled=True)\n",
        "\n",
        "ResponsibleAIDashboard(insights)"
      ]
    },
    {
      "cell_type": "code",
      "execution_count": null,
      "metadata": {},
      "outputs": [],
      "source": []
    }
  ],
  "metadata": {
    "authors": [
      {
        "name": "jialiu"
      }
    ],
    "categories": [
      "SDK v1",
      "how-to-use-azureml",
      "automated-machine-learning"
    ],
    "category": "tutorial",
    "celltoolbar": "Raw Cell Format",
    "compute": [
      "Remote"
    ],
    "datasets": [
      "Orange Juice Sales"
    ],
    "deployment": [
      "Azure Container Instance"
    ],
    "exclude_from_index": false,
    "framework": [
      "Azure ML AutoML"
    ],
    "friendly_name": "Forecasting orange juice sales with deployment",
    "index_order": 1,
    "kernel_info": {
      "name": "python38-azureml"
    },
    "kernelspec": {
      "display_name": "sktime",
      "language": "python",
      "name": "python3"
    },
    "language_info": {
      "codemirror_mode": {
        "name": "ipython",
        "version": 3
      },
      "file_extension": ".py",
      "mimetype": "text/x-python",
      "name": "python",
      "nbconvert_exporter": "python",
      "pygments_lexer": "ipython3",
      "version": "3.8.16"
    },
    "microsoft": {
      "host": {
        "AzureML": {
          "notebookHasBeenCompleted": true
        }
      }
    },
    "nteract": {
      "version": "nteract-front-end@1.0.0"
    },
    "tags": [
      "None"
    ],
    "task": "Forecasting",
    "vscode": {
      "interpreter": {
        "hash": "6424d405450b15a93ca3015242fc1e51ac658b1b4015ae2fef5559269d9e1e0c"
      }
    }
  },
  "nbformat": 4,
  "nbformat_minor": 4
}
