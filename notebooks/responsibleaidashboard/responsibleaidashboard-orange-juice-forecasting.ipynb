{
  "cells": [
    {
      "cell_type": "markdown",
      "metadata": {},
      "source": [
        "Copyright (c) Microsoft Corporation. All rights reserved.\n",
        "\n",
        "Licensed under the MIT License."
      ]
    },
    {
      "attachments": {},
      "cell_type": "markdown",
      "metadata": {},
      "source": [
        "# Responsible AI dashboard for Time Series Forecasting\n",
        "_**Orange Juice Sales Forecasting**_\n",
        "\n",
        "## Contents\n",
        "1. [Introduction](#introduction)\n",
        "1. [Data](#data)\n",
        "1. [Train](#train)\n",
        "1. [Forecast](#forecast)\n",
        "1. [Responsible AI Dashboard](#analyze)"
      ]
    },
    {
      "attachments": {},
      "cell_type": "markdown",
      "metadata": {},
      "source": [
        "## Introduction<a id=\"introduction\"></a>\n",
        "In this example, we use sktime to train, select, and operationalize a time-series forecasting model for multiple time-series.\n",
        "\n",
        "The examples in the follow code samples use the University of Chicago's Dominick's Finer Foods dataset to forecast orange juice sales. Dominick's was a grocery chain in the Chicago metropolitan area."
      ]
    },
    {
      "cell_type": "code",
      "execution_count": 5,
      "metadata": {
        "gather": {
          "logged": 1670990788014
        }
      },
      "outputs": [],
      "source": [
        "import json\n",
        "import numpy as np\n",
        "import pandas as pd\n",
        "from sklearn.preprocessing import PowerTransformer, RobustScaler, MinMaxScaler\n",
        "from sktime.forecasting.compose import TransformedTargetForecaster\n",
        "from sktime.transformations.series.adapt import TabularToSeriesAdaptor\n",
        "from sktime.transformations.series.detrend import Deseasonalizer, Detrender\n",
        "from sktime.forecasting.compose import make_reduction, DirectTabularRegressionForecaster\n",
        "from sktime.regression.distance_based import KNeighborsTimeSeriesRegressor\n",
        "from sktime.forecasting.base import ForecastingHorizon\n",
        "from sktime.forecasting.model_selection import temporal_train_test_split\n",
        "from sktime.utils.plotting import plot_series"
      ]
    },
    {
      "cell_type": "markdown",
      "metadata": {},
      "source": [
        "## Data<a id=\"data\"></a>\n",
        "You are now ready to load the historical orange juice sales data. We will load the CSV file into a plain pandas DataFrame; the time column in the CSV is called _WeekStarting_, so it will be specially parsed into the datetime type."
      ]
    },
    {
      "cell_type": "code",
      "execution_count": 24,
      "metadata": {
        "gather": {
          "logged": 1670990899201
        }
      },
      "outputs": [
        {
          "ename": "TypeError",
          "evalue": "Cannot convert input [(2, 'dominicks', Timestamp('1990-06-14 00:00:00'))] of type <class 'tuple'> to Timestamp",
          "output_type": "error",
          "traceback": [
            "\u001b[1;31m---------------------------------------------------------------------------\u001b[0m",
            "\u001b[1;31mTypeError\u001b[0m                                 Traceback (most recent call last)",
            "Cell \u001b[1;32mIn[24], line 10\u001b[0m\n\u001b[0;32m      7\u001b[0m data\u001b[39m.\u001b[39mdrop(\u001b[39m\"\u001b[39m\u001b[39mlogQuantity\u001b[39m\u001b[39m\"\u001b[39m, axis\u001b[39m=\u001b[39m\u001b[39m1\u001b[39m, inplace\u001b[39m=\u001b[39m\u001b[39mTrue\u001b[39;00m)\n\u001b[0;32m      9\u001b[0m data\u001b[39m.\u001b[39mset_index(time_series_id_column_names \u001b[39m+\u001b[39m [time_column_name], inplace\u001b[39m=\u001b[39m\u001b[39mTrue\u001b[39;00m)\n\u001b[1;32m---> 10\u001b[0m data\u001b[39m.\u001b[39;49masfreq(\u001b[39m\"\u001b[39;49m\u001b[39mW-THU\u001b[39;49m\u001b[39m\"\u001b[39;49m)\n\u001b[0;32m     11\u001b[0m data\u001b[39m.\u001b[39msort_index(inplace\u001b[39m=\u001b[39m\u001b[39mTrue\u001b[39;00m, ascending\u001b[39m=\u001b[39m[\u001b[39mTrue\u001b[39;00m, \u001b[39mTrue\u001b[39;00m, \u001b[39mTrue\u001b[39;00m])\n\u001b[0;32m     13\u001b[0m data\u001b[39m.\u001b[39mhead()\n",
            "File \u001b[1;32mc:\\ProgramData\\Anaconda3\\envs\\sktime\\lib\\site-packages\\pandas\\core\\frame.py:11367\u001b[0m, in \u001b[0;36mDataFrame.asfreq\u001b[1;34m(self, freq, method, how, normalize, fill_value)\u001b[0m\n\u001b[0;32m  11358\u001b[0m \u001b[39m@doc\u001b[39m(NDFrame\u001b[39m.\u001b[39masfreq, \u001b[39m*\u001b[39m\u001b[39m*\u001b[39m_shared_doc_kwargs)\n\u001b[0;32m  11359\u001b[0m \u001b[39mdef\u001b[39;00m \u001b[39masfreq\u001b[39m(\n\u001b[0;32m  11360\u001b[0m     \u001b[39mself\u001b[39m,\n\u001b[1;32m   (...)\u001b[0m\n\u001b[0;32m  11365\u001b[0m     fill_value: Hashable \u001b[39m=\u001b[39m \u001b[39mNone\u001b[39;00m,\n\u001b[0;32m  11366\u001b[0m ) \u001b[39m-\u001b[39m\u001b[39m>\u001b[39m DataFrame:\n\u001b[1;32m> 11367\u001b[0m     \u001b[39mreturn\u001b[39;00m \u001b[39msuper\u001b[39;49m()\u001b[39m.\u001b[39;49masfreq(\n\u001b[0;32m  11368\u001b[0m         freq\u001b[39m=\u001b[39;49mfreq,\n\u001b[0;32m  11369\u001b[0m         method\u001b[39m=\u001b[39;49mmethod,\n\u001b[0;32m  11370\u001b[0m         how\u001b[39m=\u001b[39;49mhow,\n\u001b[0;32m  11371\u001b[0m         normalize\u001b[39m=\u001b[39;49mnormalize,\n\u001b[0;32m  11372\u001b[0m         fill_value\u001b[39m=\u001b[39;49mfill_value,\n\u001b[0;32m  11373\u001b[0m     )\n",
            "File \u001b[1;32mc:\\ProgramData\\Anaconda3\\envs\\sktime\\lib\\site-packages\\pandas\\core\\generic.py:8235\u001b[0m, in \u001b[0;36mNDFrame.asfreq\u001b[1;34m(self, freq, method, how, normalize, fill_value)\u001b[0m\n\u001b[0;32m   8128\u001b[0m \u001b[39m\u001b[39m\u001b[39m\"\"\"\u001b[39;00m\n\u001b[0;32m   8129\u001b[0m \u001b[39mConvert time series to specified frequency.\u001b[39;00m\n\u001b[0;32m   8130\u001b[0m \n\u001b[1;32m   (...)\u001b[0m\n\u001b[0;32m   8231\u001b[0m \u001b[39m2000-01-01 00:03:00    3.0\u001b[39;00m\n\u001b[0;32m   8232\u001b[0m \u001b[39m\"\"\"\u001b[39;00m\n\u001b[0;32m   8233\u001b[0m \u001b[39mfrom\u001b[39;00m \u001b[39mpandas\u001b[39;00m\u001b[39m.\u001b[39;00m\u001b[39mcore\u001b[39;00m\u001b[39m.\u001b[39;00m\u001b[39mresample\u001b[39;00m \u001b[39mimport\u001b[39;00m asfreq\n\u001b[1;32m-> 8235\u001b[0m \u001b[39mreturn\u001b[39;00m asfreq(\n\u001b[0;32m   8236\u001b[0m     \u001b[39mself\u001b[39;49m,\n\u001b[0;32m   8237\u001b[0m     freq,\n\u001b[0;32m   8238\u001b[0m     method\u001b[39m=\u001b[39;49mmethod,\n\u001b[0;32m   8239\u001b[0m     how\u001b[39m=\u001b[39;49mhow,\n\u001b[0;32m   8240\u001b[0m     normalize\u001b[39m=\u001b[39;49mnormalize,\n\u001b[0;32m   8241\u001b[0m     fill_value\u001b[39m=\u001b[39;49mfill_value,\n\u001b[0;32m   8242\u001b[0m )\n",
            "File \u001b[1;32mc:\\ProgramData\\Anaconda3\\envs\\sktime\\lib\\site-packages\\pandas\\core\\resample.py:2229\u001b[0m, in \u001b[0;36masfreq\u001b[1;34m(obj, freq, method, how, normalize, fill_value)\u001b[0m\n\u001b[0;32m   2227\u001b[0m     new_obj\u001b[39m.\u001b[39mindex \u001b[39m=\u001b[39m _asfreq_compat(obj\u001b[39m.\u001b[39mindex, freq)\n\u001b[0;32m   2228\u001b[0m \u001b[39melse\u001b[39;00m:\n\u001b[1;32m-> 2229\u001b[0m     dti \u001b[39m=\u001b[39m date_range(obj\u001b[39m.\u001b[39;49mindex\u001b[39m.\u001b[39;49mmin(), obj\u001b[39m.\u001b[39;49mindex\u001b[39m.\u001b[39;49mmax(), freq\u001b[39m=\u001b[39;49mfreq)\n\u001b[0;32m   2230\u001b[0m     dti\u001b[39m.\u001b[39mname \u001b[39m=\u001b[39m obj\u001b[39m.\u001b[39mindex\u001b[39m.\u001b[39mname\n\u001b[0;32m   2231\u001b[0m     new_obj \u001b[39m=\u001b[39m obj\u001b[39m.\u001b[39mreindex(dti, method\u001b[39m=\u001b[39mmethod, fill_value\u001b[39m=\u001b[39mfill_value)\n",
            "File \u001b[1;32mc:\\ProgramData\\Anaconda3\\envs\\sktime\\lib\\site-packages\\pandas\\core\\indexes\\datetimes.py:1125\u001b[0m, in \u001b[0;36mdate_range\u001b[1;34m(start, end, periods, freq, tz, normalize, name, closed, inclusive, **kwargs)\u001b[0m\n\u001b[0;32m   1122\u001b[0m \u001b[39mif\u001b[39;00m freq \u001b[39mis\u001b[39;00m \u001b[39mNone\u001b[39;00m \u001b[39mand\u001b[39;00m com\u001b[39m.\u001b[39many_none(periods, start, end):\n\u001b[0;32m   1123\u001b[0m     freq \u001b[39m=\u001b[39m \u001b[39m\"\u001b[39m\u001b[39mD\u001b[39m\u001b[39m\"\u001b[39m\n\u001b[1;32m-> 1125\u001b[0m dtarr \u001b[39m=\u001b[39m DatetimeArray\u001b[39m.\u001b[39;49m_generate_range(\n\u001b[0;32m   1126\u001b[0m     start\u001b[39m=\u001b[39;49mstart,\n\u001b[0;32m   1127\u001b[0m     end\u001b[39m=\u001b[39;49mend,\n\u001b[0;32m   1128\u001b[0m     periods\u001b[39m=\u001b[39;49mperiods,\n\u001b[0;32m   1129\u001b[0m     freq\u001b[39m=\u001b[39;49mfreq,\n\u001b[0;32m   1130\u001b[0m     tz\u001b[39m=\u001b[39;49mtz,\n\u001b[0;32m   1131\u001b[0m     normalize\u001b[39m=\u001b[39;49mnormalize,\n\u001b[0;32m   1132\u001b[0m     inclusive\u001b[39m=\u001b[39;49minclusive,\n\u001b[0;32m   1133\u001b[0m     \u001b[39m*\u001b[39;49m\u001b[39m*\u001b[39;49mkwargs,\n\u001b[0;32m   1134\u001b[0m )\n\u001b[0;32m   1135\u001b[0m \u001b[39mreturn\u001b[39;00m DatetimeIndex\u001b[39m.\u001b[39m_simple_new(dtarr, name\u001b[39m=\u001b[39mname)\n",
            "File \u001b[1;32mc:\\ProgramData\\Anaconda3\\envs\\sktime\\lib\\site-packages\\pandas\\core\\arrays\\datetimes.py:361\u001b[0m, in \u001b[0;36mDatetimeArray._generate_range\u001b[1;34m(cls, start, end, periods, freq, tz, normalize, ambiguous, nonexistent, inclusive)\u001b[0m\n\u001b[0;32m    358\u001b[0m freq \u001b[39m=\u001b[39m to_offset(freq)\n\u001b[0;32m    360\u001b[0m \u001b[39mif\u001b[39;00m start \u001b[39mis\u001b[39;00m \u001b[39mnot\u001b[39;00m \u001b[39mNone\u001b[39;00m:\n\u001b[1;32m--> 361\u001b[0m     start \u001b[39m=\u001b[39m Timestamp(start)\n\u001b[0;32m    363\u001b[0m \u001b[39mif\u001b[39;00m end \u001b[39mis\u001b[39;00m \u001b[39mnot\u001b[39;00m \u001b[39mNone\u001b[39;00m:\n\u001b[0;32m    364\u001b[0m     end \u001b[39m=\u001b[39m Timestamp(end)\n",
            "File \u001b[1;32mc:\\ProgramData\\Anaconda3\\envs\\sktime\\lib\\site-packages\\pandas\\_libs\\tslibs\\timestamps.pyx:1698\u001b[0m, in \u001b[0;36mpandas._libs.tslibs.timestamps.Timestamp.__new__\u001b[1;34m()\u001b[0m\n",
            "File \u001b[1;32mc:\\ProgramData\\Anaconda3\\envs\\sktime\\lib\\site-packages\\pandas\\_libs\\tslibs\\conversion.pyx:309\u001b[0m, in \u001b[0;36mpandas._libs.tslibs.conversion.convert_to_tsobject\u001b[1;34m()\u001b[0m\n",
            "\u001b[1;31mTypeError\u001b[0m: Cannot convert input [(2, 'dominicks', Timestamp('1990-06-14 00:00:00'))] of type <class 'tuple'> to Timestamp"
          ]
        }
      ],
      "source": [
        "time_column_name = \"WeekStarting\"\n",
        "time_series_id_column_names = [\"Store\", \"Brand\"]\n",
        "dataset_location = \"https://raw.githubusercontent.com/Azure/azureml-examples/2fe81643865e1f4591e7734bd1a729093cafb826/v1/python-sdk/tutorials/automl-with-azureml/forecasting-orange-juice-sales/dominicks_OJ.csv\"\n",
        "data = pd.read_csv(dataset_location, parse_dates=[time_column_name])\n",
        "\n",
        "# Drop the columns 'logQuantity' as it is a leaky feature.\n",
        "data.drop(\"logQuantity\", axis=1, inplace=True)\n",
        "\n",
        "data.set_index(time_series_id_column_names + [time_column_name], inplace=True)\n",
        "data.asfreq(\"W-THU\")\n",
        "data.sort_index(inplace=True, ascending=[True, True, True])\n",
        "\n",
        "data.head()"
      ]
    },
    {
      "cell_type": "markdown",
      "metadata": {},
      "source": [
        "Each row in the DataFrame holds a quantity of weekly sales for an OJ brand at a single store. The data also includes the sales price, a flag indicating if the OJ brand was advertised in the store that week, and some customer demographic information based on the store location. For historical reasons, the data also include the logarithm of the sales quantity. The Dominick's grocery data is commonly used to illustrate econometric modeling techniques where logarithms of quantities are generally preferred.    \n",
        "\n",
        "The task is now to build a time-series model for the _Quantity_ column. It is important to note that this dataset is comprised of many individual time-series - one for each unique combination of _Store_ and _Brand_. To distinguish the individual time-series, we define the **time_series_id_column_names** - the columns whose values determine the boundaries between time-series: "
      ]
    },
    {
      "cell_type": "code",
      "execution_count": 7,
      "metadata": {
        "gather": {
          "logged": 1670990902872
        }
      },
      "outputs": [
        {
          "name": "stdout",
          "output_type": "stream",
          "text": [
            "Data contains 249 individual time-series.\n"
          ]
        }
      ],
      "source": [
        "nseries = data.groupby(time_series_id_column_names).ngroups\n",
        "print(\"Data contains {0} individual time-series.\".format(nseries))"
      ]
    },
    {
      "cell_type": "markdown",
      "metadata": {},
      "source": [
        "For demonstration purposes, we extract sales time-series for just a few of the stores:"
      ]
    },
    {
      "cell_type": "code",
      "execution_count": 14,
      "metadata": {
        "gather": {
          "logged": 1670990905562
        }
      },
      "outputs": [
        {
          "name": "stdout",
          "output_type": "stream",
          "text": [
            "Data subset contains 9 individual time-series.\n"
          ]
        }
      ],
      "source": [
        "use_stores = [2, 5, 8]\n",
        "data_subset = data.loc[([2,5,8], slice(None), slice(None)), :]\n",
        "nseries = data_subset.groupby(time_series_id_column_names).ngroups\n",
        "print(\"Data subset contains {0} individual time-series.\".format(nseries))"
      ]
    },
    {
      "cell_type": "markdown",
      "metadata": {},
      "source": [
        "### Data Splitting\n",
        "We now split the data into a training and a testing set for later forecast evaluation. The test set will contain the final 20 weeks of observed sales for each time-series. The splits should be stratified by series, so we use a group-by statement on the time series identifier columns."
      ]
    },
    {
      "cell_type": "code",
      "execution_count": 15,
      "metadata": {
        "gather": {
          "logged": 1670990907583
        }
      },
      "outputs": [],
      "source": [
        "target_column_name = \"Quantity\"\n",
        "\n",
        "y = pd.DataFrame(data_subset[target_column_name])\n",
        "X = data_subset.drop(columns=[target_column_name])\n",
        "fh_dates = pd.DatetimeIndex(y.index.get_level_values(2).unique().sort_values().to_list()[-20:], freq='W-THU')\n",
        "fh = ForecastingHorizon(fh_dates, is_relative=False)\n",
        "y_train, y_test, X_train, X_test = \\\n",
        "    temporal_train_test_split(\n",
        "        y=y,\n",
        "        X=X,\n",
        "        test_size=20)"
      ]
    },
    {
      "attachments": {},
      "cell_type": "markdown",
      "metadata": {},
      "source": [
        "## Modeling\n",
        "\n",
        "For forecasting tasks, we need to do several pre-processing and estimation steps that are specific to time-series including:\n",
        "* Detect time-series sample frequency (e.g. hourly, daily, weekly) and create new records for absent time points to make the series regular. A regular time series has a well-defined frequency and has a value at every sample point in a contiguous time span \n",
        "* Impute missing values in the target (via forward-fill) and feature columns (using median column values) \n",
        "* Create features based on time series identifiers to enable fixed effects across different series\n",
        "* Create time-based features to assist in learning seasonal patterns\n",
        "* Encode categorical variables to numeric quantities\n",
        "\n",
        "In this notebook, we will train a single, regression-type model across **all** time-series in a given training set. This allows the model to generalize across related series."
      ]
    },
    {
      "cell_type": "markdown",
      "metadata": {},
      "source": [
        "## Customization\n",
        "\n",
        "The featurization customization in forecasting is an advanced feature in AutoML which allows our customers to change the default forecasting featurization behaviors and column types through `FeaturizationConfig`. The supported scenarios include:\n",
        "\n",
        "1. Column purposes update: Override feature type for the specified column. Currently supports DateTime, Categorical and Numeric. This customization can be used in the scenario that the type of the column cannot correctly reflect its purpose. Some numerical columns, for instance, can be treated as Categorical columns which need to be converted to categorical while some can be treated as epoch timestamp which need to be converted to datetime. To tell our SDK to correctly preprocess these columns, a configuration need to be add with the columns and their desired types.\n",
        "2. Transformer parameters update: Currently supports parameter change for Imputer only. User can customize imputation methods. The supported imputing methods for target column are constant and ffill (forward fill). The supported imputing methods for feature columns are mean, median, most frequent, constant and ffill (forward fill). This customization can be used for the scenario that our customers know which imputation methods fit best to the input data. For instance, some datasets use NaN to represent 0 which the correct behavior should impute all the missing value with 0. To achieve this behavior, these columns need to be configured as constant imputation with `fill_value` 0.\n",
        "3. Drop columns: Columns to drop from being featurized. These usually are the columns which are leaky or the columns contain no useful data."
      ]
    },
    {
      "cell_type": "code",
      "execution_count": null,
      "metadata": {
        "gather": {
          "logged": 1670990927322
        },
        "tags": [
          "sample-featurizationconfig-remarks"
        ]
      },
      "outputs": [],
      "source": [
        "#forecaster = TransformedTargetForecaster(steps=[\n",
        "#    # (\"detrend\", Detrender()),\n",
        "#    # (\"deseasonalize\", Deseasonalizer()),\n",
        "#    # (\"minmax\", TabularToSeriesAdaptor(MinMaxScaler((1, 10)))),\n",
        "#    # (\"power\", TabularToSeriesAdaptor(PowerTransformer())),\n",
        "#    # (\"scaler\", TabularToSeriesAdaptor(RobustScaler())),\n",
        "#    (\"forecaster\", DirectTabularRegressionForecaster(KNeighborsTimeSeriesRegressor())),\n",
        "#])\n",
        "\n",
        "\"\"\"\n",
        "featurization_config = FeaturizationConfig()\n",
        "# Force the CPWVOL5 feature to be numeric type.\n",
        "featurization_config.add_column_purpose(\"CPWVOL5\", \"Numeric\")\n",
        "# Fill missing values in the target column, Quantity, with zeros.\n",
        "featurization_config.add_transformer_params(\n",
        "    \"Imputer\", [\"Quantity\"], {\"strategy\": \"constant\", \"fill_value\": 0}\n",
        ")\n",
        "# Fill missing values in the INCOME column with median value.\n",
        "featurization_config.add_transformer_params(\n",
        "    \"Imputer\", [\"INCOME\"], {\"strategy\": \"median\"}\n",
        ")\n",
        "# Fill missing values in the Price column with forward fill (last value carried forward).\n",
        "featurization_config.add_transformer_params(\"Imputer\", [\"Price\"], {\"strategy\": \"ffill\"})\n",
        "\"\"\""
      ]
    },
    {
      "cell_type": "markdown",
      "metadata": {},
      "source": [
        "## Forecasting Parameters\n",
        "To define forecasting parameters for your experiment training, you can leverage the ForecastingParameters class. The table below details the forecasting parameter we will be passing into our experiment.\n",
        "\n",
        "\n",
        "|Property|Description|\n",
        "|-|-|\n",
        "|**time_column_name**|The name of your time column.|\n",
        "|**forecast_horizon**|The forecast horizon is how many periods forward you would like to forecast. This integer horizon is in units of the timeseries frequency (e.g. daily, weekly).|\n",
        "|**time_series_id_column_names**|The column names used to uniquely identify the time series in data that has multiple rows with the same timestamp. If the time series identifiers are not defined, the data set is assumed to be one time series.|\n",
        "|**freq**|Forecast frequency. This optional parameter represents the period with which the forecast is desired, for example, daily, weekly, yearly, etc. Use this parameter for the correction of time series containing irregular data points or for padding of short time series. The frequency needs to be a pandas offset alias. Please refer to [pandas documentation](https://pandas.pydata.org/pandas-docs/stable/user_guide/timeseries.html#dateoffset-objects) for more information.\n",
        "|**cv_step_size**|Number of periods between two consecutive cross-validation folds. The default value is \"auto\", in which case AutoMl determines the cross-validation step size automatically, if a validation set is not provided. Or users could specify an integer value."
      ]
    },
    {
      "attachments": {},
      "cell_type": "markdown",
      "metadata": {},
      "source": [
        "## Train<a id=\"train\"></a>"
      ]
    },
    {
      "cell_type": "markdown",
      "metadata": {},
      "source": [
        "You can now submit a new training run. Depending on the data and number of iterations this operation may take several minutes.\n",
        "Information from each iteration will be printed to the console.  Validation errors and current status will be shown when setting `show_output=True` and the execution will be synchronous."
      ]
    },
    {
      "cell_type": "code",
      "execution_count": 18,
      "metadata": {},
      "outputs": [
        {
          "ename": "TypeError",
          "evalue": "unsupported operand type(s) for *=: 'int' and 'NoneType'",
          "output_type": "error",
          "traceback": [
            "\u001b[1;31m---------------------------------------------------------------------------\u001b[0m",
            "\u001b[1;31mTypeError\u001b[0m                                 Traceback (most recent call last)",
            "Cell \u001b[1;32mIn[18], line 9\u001b[0m\n\u001b[0;32m      4\u001b[0m forecaster \u001b[39m=\u001b[39m ForecastingPipeline(\n\u001b[0;32m      5\u001b[0m     steps\u001b[39m=\u001b[39m[\n\u001b[0;32m      6\u001b[0m         (\u001b[39m\"\u001b[39m\u001b[39mimputer\u001b[39m\u001b[39m\"\u001b[39m, Imputer(method\u001b[39m=\u001b[39m\u001b[39m\"\u001b[39m\u001b[39mmean\u001b[39m\u001b[39m\"\u001b[39m)),\n\u001b[0;32m      7\u001b[0m         (\u001b[39m\"\u001b[39m\u001b[39mforecaster\u001b[39m\u001b[39m\"\u001b[39m, DirectTabularRegressionForecaster(KNeighborsTimeSeriesRegressor()))])\n\u001b[0;32m      8\u001b[0m forecaster\u001b[39m.\u001b[39mfit(y\u001b[39m=\u001b[39my_train, X\u001b[39m=\u001b[39mX_train, fh\u001b[39m=\u001b[39mfh)\n\u001b[1;32m----> 9\u001b[0m forecaster\u001b[39m.\u001b[39;49mpredict(fh\u001b[39m=\u001b[39;49mfh, X\u001b[39m=\u001b[39;49mX_test)\n",
            "File \u001b[1;32mc:\\ProgramData\\Anaconda3\\envs\\sktime\\lib\\site-packages\\sktime\\forecasting\\base\\_base.py:404\u001b[0m, in \u001b[0;36mBaseForecaster.predict\u001b[1;34m(self, fh, X)\u001b[0m\n\u001b[0;32m    402\u001b[0m \u001b[39m# we call the ordinary _predict if no looping/vectorization needed\u001b[39;00m\n\u001b[0;32m    403\u001b[0m \u001b[39mif\u001b[39;00m \u001b[39mnot\u001b[39;00m \u001b[39mself\u001b[39m\u001b[39m.\u001b[39m_is_vectorized:\n\u001b[1;32m--> 404\u001b[0m     y_pred \u001b[39m=\u001b[39m \u001b[39mself\u001b[39;49m\u001b[39m.\u001b[39;49m_predict(fh\u001b[39m=\u001b[39;49mfh, X\u001b[39m=\u001b[39;49mX_inner)\n\u001b[0;32m    405\u001b[0m \u001b[39melse\u001b[39;00m:\n\u001b[0;32m    406\u001b[0m     \u001b[39m# otherwise we call the vectorized version of predict\u001b[39;00m\n\u001b[0;32m    407\u001b[0m     y_pred \u001b[39m=\u001b[39m \u001b[39mself\u001b[39m\u001b[39m.\u001b[39m_vectorize(\u001b[39m\"\u001b[39m\u001b[39mpredict\u001b[39m\u001b[39m\"\u001b[39m, X\u001b[39m=\u001b[39mX_inner, fh\u001b[39m=\u001b[39mfh)\n",
            "File \u001b[1;32mc:\\ProgramData\\Anaconda3\\envs\\sktime\\lib\\site-packages\\sktime\\forecasting\\compose\\_pipeline.py:490\u001b[0m, in \u001b[0;36mForecastingPipeline._predict\u001b[1;34m(self, fh, X)\u001b[0m\n\u001b[0;32m    475\u001b[0m \u001b[39m\u001b[39m\u001b[39m\"\"\"Forecast time series at future horizon.\u001b[39;00m\n\u001b[0;32m    476\u001b[0m \n\u001b[0;32m    477\u001b[0m \u001b[39mParameters\u001b[39;00m\n\u001b[1;32m   (...)\u001b[0m\n\u001b[0;32m    487\u001b[0m \u001b[39m    Point predictions\u001b[39;00m\n\u001b[0;32m    488\u001b[0m \u001b[39m\"\"\"\u001b[39;00m\n\u001b[0;32m    489\u001b[0m X \u001b[39m=\u001b[39m \u001b[39mself\u001b[39m\u001b[39m.\u001b[39m_transform(X\u001b[39m=\u001b[39mX)\n\u001b[1;32m--> 490\u001b[0m \u001b[39mreturn\u001b[39;00m \u001b[39mself\u001b[39;49m\u001b[39m.\u001b[39;49mforecaster_\u001b[39m.\u001b[39;49mpredict(fh, X)\n",
            "File \u001b[1;32mc:\\ProgramData\\Anaconda3\\envs\\sktime\\lib\\site-packages\\sktime\\forecasting\\base\\_base.py:407\u001b[0m, in \u001b[0;36mBaseForecaster.predict\u001b[1;34m(self, fh, X)\u001b[0m\n\u001b[0;32m    404\u001b[0m     y_pred \u001b[39m=\u001b[39m \u001b[39mself\u001b[39m\u001b[39m.\u001b[39m_predict(fh\u001b[39m=\u001b[39mfh, X\u001b[39m=\u001b[39mX_inner)\n\u001b[0;32m    405\u001b[0m \u001b[39melse\u001b[39;00m:\n\u001b[0;32m    406\u001b[0m     \u001b[39m# otherwise we call the vectorized version of predict\u001b[39;00m\n\u001b[1;32m--> 407\u001b[0m     y_pred \u001b[39m=\u001b[39m \u001b[39mself\u001b[39;49m\u001b[39m.\u001b[39;49m_vectorize(\u001b[39m\"\u001b[39;49m\u001b[39mpredict\u001b[39;49m\u001b[39m\"\u001b[39;49m, X\u001b[39m=\u001b[39;49mX_inner, fh\u001b[39m=\u001b[39;49mfh)\n\u001b[0;32m    409\u001b[0m \u001b[39m# convert to output mtype, identical with last y mtype seen\u001b[39;00m\n\u001b[0;32m    410\u001b[0m y_out \u001b[39m=\u001b[39m convert_to(\n\u001b[0;32m    411\u001b[0m     y_pred,\n\u001b[0;32m    412\u001b[0m     \u001b[39mself\u001b[39m\u001b[39m.\u001b[39m_y_mtype_last_seen,\n\u001b[0;32m    413\u001b[0m     store\u001b[39m=\u001b[39m\u001b[39mself\u001b[39m\u001b[39m.\u001b[39m_converter_store_y,\n\u001b[0;32m    414\u001b[0m     store_behaviour\u001b[39m=\u001b[39m\u001b[39m\"\u001b[39m\u001b[39mfreeze\u001b[39m\u001b[39m\"\u001b[39m,\n\u001b[0;32m    415\u001b[0m )\n",
            "File \u001b[1;32mc:\\ProgramData\\Anaconda3\\envs\\sktime\\lib\\site-packages\\sktime\\forecasting\\base\\_base.py:1770\u001b[0m, in \u001b[0;36mBaseForecaster._vectorize\u001b[1;34m(self, methodname, **kwargs)\u001b[0m\n\u001b[0;32m   1767\u001b[0m method \u001b[39m=\u001b[39m \u001b[39mgetattr\u001b[39m(\u001b[39mself\u001b[39m\u001b[39m.\u001b[39mforecasters_\u001b[39m.\u001b[39miloc[i]\u001b[39m.\u001b[39miloc[j], methodname)\n\u001b[0;32m   1769\u001b[0m \u001b[39mif\u001b[39;00m methodname \u001b[39m!=\u001b[39m \u001b[39m\"\u001b[39m\u001b[39mupdate_predict_single\u001b[39m\u001b[39m\"\u001b[39m:\n\u001b[1;32m-> 1770\u001b[0m     y_preds \u001b[39m+\u001b[39m\u001b[39m=\u001b[39m [method(X\u001b[39m=\u001b[39;49mXs[i], \u001b[39m*\u001b[39;49m\u001b[39m*\u001b[39;49mkwargs)]\n\u001b[0;32m   1771\u001b[0m \u001b[39melse\u001b[39;00m:\n\u001b[0;32m   1772\u001b[0m     y_preds \u001b[39m+\u001b[39m\u001b[39m=\u001b[39m [method(y\u001b[39m=\u001b[39mys[ix], X\u001b[39m=\u001b[39mXs[i], \u001b[39m*\u001b[39m\u001b[39m*\u001b[39mkwargs)]\n",
            "File \u001b[1;32mc:\\ProgramData\\Anaconda3\\envs\\sktime\\lib\\site-packages\\sktime\\forecasting\\base\\_base.py:404\u001b[0m, in \u001b[0;36mBaseForecaster.predict\u001b[1;34m(self, fh, X)\u001b[0m\n\u001b[0;32m    402\u001b[0m \u001b[39m# we call the ordinary _predict if no looping/vectorization needed\u001b[39;00m\n\u001b[0;32m    403\u001b[0m \u001b[39mif\u001b[39;00m \u001b[39mnot\u001b[39;00m \u001b[39mself\u001b[39m\u001b[39m.\u001b[39m_is_vectorized:\n\u001b[1;32m--> 404\u001b[0m     y_pred \u001b[39m=\u001b[39m \u001b[39mself\u001b[39;49m\u001b[39m.\u001b[39;49m_predict(fh\u001b[39m=\u001b[39;49mfh, X\u001b[39m=\u001b[39;49mX_inner)\n\u001b[0;32m    405\u001b[0m \u001b[39melse\u001b[39;00m:\n\u001b[0;32m    406\u001b[0m     \u001b[39m# otherwise we call the vectorized version of predict\u001b[39;00m\n\u001b[0;32m    407\u001b[0m     y_pred \u001b[39m=\u001b[39m \u001b[39mself\u001b[39m\u001b[39m.\u001b[39m_vectorize(\u001b[39m\"\u001b[39m\u001b[39mpredict\u001b[39m\u001b[39m\"\u001b[39m, X\u001b[39m=\u001b[39mX_inner, fh\u001b[39m=\u001b[39mfh)\n",
            "File \u001b[1;32mc:\\ProgramData\\Anaconda3\\envs\\sktime\\lib\\site-packages\\sktime\\forecasting\\base\\_sktime.py:31\u001b[0m, in \u001b[0;36m_BaseWindowForecaster._predict\u001b[1;34m(self, fh, X)\u001b[0m\n\u001b[0;32m     29\u001b[0m \u001b[39m# all values are out-of-sample\u001b[39;00m\n\u001b[0;32m     30\u001b[0m \u001b[39mif\u001b[39;00m fh\u001b[39m.\u001b[39mis_all_out_of_sample(\u001b[39mself\u001b[39m\u001b[39m.\u001b[39mcutoff):\n\u001b[1;32m---> 31\u001b[0m     \u001b[39mreturn\u001b[39;00m \u001b[39mself\u001b[39;49m\u001b[39m.\u001b[39;49m_predict_fixed_cutoff(\n\u001b[0;32m     32\u001b[0m         fh\u001b[39m.\u001b[39;49mto_out_of_sample(\u001b[39mself\u001b[39;49m\u001b[39m.\u001b[39;49mcutoff), \u001b[39m*\u001b[39;49m\u001b[39m*\u001b[39;49mkwargs\n\u001b[0;32m     33\u001b[0m     )\n\u001b[0;32m     35\u001b[0m \u001b[39m# all values are in-sample\u001b[39;00m\n\u001b[0;32m     36\u001b[0m \u001b[39melif\u001b[39;00m fh\u001b[39m.\u001b[39mis_all_in_sample(\u001b[39mself\u001b[39m\u001b[39m.\u001b[39mcutoff):\n",
            "File \u001b[1;32mc:\\ProgramData\\Anaconda3\\envs\\sktime\\lib\\site-packages\\sktime\\forecasting\\base\\_sktime.py:65\u001b[0m, in \u001b[0;36m_BaseWindowForecaster._predict_fixed_cutoff\u001b[1;34m(self, fh, X, return_pred_int, alpha)\u001b[0m\n\u001b[0;32m     50\u001b[0m \u001b[39m\u001b[39m\u001b[39m\"\"\"Make single-step or multi-step fixed cutoff predictions.\u001b[39;00m\n\u001b[0;32m     51\u001b[0m \n\u001b[0;32m     52\u001b[0m \u001b[39mParameters\u001b[39;00m\n\u001b[1;32m   (...)\u001b[0m\n\u001b[0;32m     62\u001b[0m \u001b[39my_pred = pd.Series or pd.DataFrame\u001b[39;00m\n\u001b[0;32m     63\u001b[0m \u001b[39m\"\"\"\u001b[39;00m\n\u001b[0;32m     64\u001b[0m \u001b[39m# assert all(fh > 0)\u001b[39;00m\n\u001b[1;32m---> 65\u001b[0m y_pred \u001b[39m=\u001b[39m \u001b[39mself\u001b[39;49m\u001b[39m.\u001b[39;49m_predict_last_window(\n\u001b[0;32m     66\u001b[0m     fh, X, return_pred_int\u001b[39m=\u001b[39;49mreturn_pred_int, alpha\u001b[39m=\u001b[39;49malpha\n\u001b[0;32m     67\u001b[0m )\n\u001b[0;32m     68\u001b[0m \u001b[39mif\u001b[39;00m \u001b[39misinstance\u001b[39m(y_pred, pd\u001b[39m.\u001b[39mSeries) \u001b[39mor\u001b[39;00m \u001b[39misinstance\u001b[39m(y_pred, pd\u001b[39m.\u001b[39mDataFrame):\n\u001b[0;32m     69\u001b[0m     \u001b[39mreturn\u001b[39;00m y_pred\n",
            "File \u001b[1;32mc:\\ProgramData\\Anaconda3\\envs\\sktime\\lib\\site-packages\\sktime\\forecasting\\compose\\_reduce.py:569\u001b[0m, in \u001b[0;36m_DirectReducer._predict_last_window\u001b[1;34m(self, fh, X, return_pred_int, alpha)\u001b[0m\n\u001b[0;32m    567\u001b[0m         \u001b[39mreturn\u001b[39;00m \u001b[39mself\u001b[39m\u001b[39m.\u001b[39m_predict_nan(fh)\n\u001b[0;32m    568\u001b[0m \u001b[39melse\u001b[39;00m:\n\u001b[1;32m--> 569\u001b[0m     y_last, X_last \u001b[39m=\u001b[39m \u001b[39mself\u001b[39;49m\u001b[39m.\u001b[39;49m_get_last_window()\n\u001b[0;32m    570\u001b[0m     \u001b[39mif\u001b[39;00m \u001b[39mnot\u001b[39;00m \u001b[39mself\u001b[39m\u001b[39m.\u001b[39m_is_predictable(y_last):\n\u001b[0;32m    571\u001b[0m         \u001b[39mreturn\u001b[39;00m \u001b[39mself\u001b[39m\u001b[39m.\u001b[39m_predict_nan(fh)\n",
            "File \u001b[1;32mc:\\ProgramData\\Anaconda3\\envs\\sktime\\lib\\site-packages\\sktime\\forecasting\\base\\_sktime.py:124\u001b[0m, in \u001b[0;36m_BaseWindowForecaster._get_last_window\u001b[1;34m(self)\u001b[0m\n\u001b[0;32m    122\u001b[0m \u001b[39m# Get the start and end points of the last window.\u001b[39;00m\n\u001b[0;32m    123\u001b[0m cutoff \u001b[39m=\u001b[39m \u001b[39mself\u001b[39m\u001b[39m.\u001b[39m_cutoff\n\u001b[1;32m--> 124\u001b[0m start \u001b[39m=\u001b[39m _shift(cutoff, by\u001b[39m=\u001b[39;49m\u001b[39m-\u001b[39;49m\u001b[39mself\u001b[39;49m\u001b[39m.\u001b[39;49mwindow_length_ \u001b[39m+\u001b[39;49m \u001b[39m1\u001b[39;49m)\n\u001b[0;32m    125\u001b[0m cutoff \u001b[39m=\u001b[39m cutoff[\u001b[39m0\u001b[39m]\n\u001b[0;32m    127\u001b[0m \u001b[39m# Get the last window of the endogenous variable.\u001b[39;00m\n",
            "File \u001b[1;32mc:\\ProgramData\\Anaconda3\\envs\\sktime\\lib\\site-packages\\sktime\\utils\\datetime.py:225\u001b[0m, in \u001b[0;36m_shift\u001b[1;34m(x, by, return_index)\u001b[0m\n\u001b[0;32m    223\u001b[0m \u001b[39m# we need to get freq from idx, since pd.Timestamp freq is deprecated\u001b[39;00m\n\u001b[0;32m    224\u001b[0m \u001b[39mif\u001b[39;00m \u001b[39misinstance\u001b[39m(x, pd\u001b[39m.\u001b[39mTimestamp):\n\u001b[1;32m--> 225\u001b[0m     by \u001b[39m*\u001b[39m\u001b[39m=\u001b[39m idx\u001b[39m.\u001b[39mfreq\n\u001b[0;32m    226\u001b[0m \u001b[39mreturn\u001b[39;00m x \u001b[39m+\u001b[39m by\n",
            "\u001b[1;31mTypeError\u001b[0m: unsupported operand type(s) for *=: 'int' and 'NoneType'"
          ]
        }
      ],
      "source": [
        "from sktime.forecasting.compose import ForecastingPipeline\n",
        "from sktime.transformations.series.impute import Imputer\n",
        "\n",
        "forecaster = ForecastingPipeline(\n",
        "    steps=[\n",
        "        (\"imputer\", Imputer(method=\"mean\")),\n",
        "        (\"forecaster\", DirectTabularRegressionForecaster(KNeighborsTimeSeriesRegressor()))])\n",
        "forecaster.fit(y=y_train, X=X_train, fh=fh)\n",
        "forecaster.predict(fh=fh, X=X_test)"
      ]
    },
    {
      "attachments": {},
      "cell_type": "markdown",
      "metadata": {},
      "source": [
        "# Forecast<a id=\"forecast\"></a>\n",
        "\n",
        "Now that we have retrieved the best pipeline/model, it can be used to make predictions on test data."
      ]
    },
    {
      "attachments": {},
      "cell_type": "markdown",
      "metadata": {},
      "source": [
        "### Retrieving forecasts from the model\n",
        "\n",
        "To produce predictions on the test set, we need to know the feature values at all dates in the test set. This requirement is somewhat reasonable for the OJ sales data since the features mainly consist of price, which is usually set in advance, and customer demographics which are approximately constant for each store over the 20 week forecast horizon in the testing data."
      ]
    },
    {
      "cell_type": "markdown",
      "metadata": {
        "nteract": {
          "transient": {
            "deleting": false
          }
        }
      },
      "source": [
        "Try downloading the model and running forecasts locally."
      ]
    },
    {
      "cell_type": "code",
      "execution_count": null,
      "metadata": {
        "gather": {
          "logged": 1671040294463
        },
        "jupyter": {
          "outputs_hidden": false,
          "source_hidden": false
        },
        "nteract": {
          "transient": {
            "deleting": false
          }
        }
      },
      "outputs": [],
      "source": [
        "import joblib\n",
        "best_run.download_file('outputs/model.pkl')\n",
        "model = joblib.load('model.pkl')\n",
        "model"
      ]
    },
    {
      "cell_type": "code",
      "execution_count": null,
      "metadata": {
        "gather": {
          "logged": 1671040765169
        },
        "jupyter": {
          "outputs_hidden": false,
          "source_hidden": false
        },
        "nteract": {
          "transient": {
            "deleting": false
          }
        }
      },
      "outputs": [],
      "source": [
        "# forecast returns the predictions for all specified quantiles\n",
        "# use 0.025 and 0.975 for the 95% confidence interval\n",
        "model.quantiles = [0.025, 0.5, 0.975]\n",
        "y_pred_quantiles = model.forecast_quantiles(test.loc[:, test.columns != target_column_name])\n",
        "y_pred_quantiles.head()"
      ]
    },
    {
      "attachments": {},
      "cell_type": "markdown",
      "metadata": {},
      "source": [
        "# Responsible AI Dashboard<a id=\"analyze\"></a>"
      ]
    },
    {
      "cell_type": "code",
      "execution_count": null,
      "metadata": {
        "jupyter": {
          "outputs_hidden": false,
          "source_hidden": false
        },
        "nteract": {
          "transient": {
            "deleting": false
          }
        }
      },
      "outputs": [],
      "source": [
        "from raiwidgets import ResponsibleAIDashboard\n",
        "from responsibleai import RAIForecastingInsights, FeatureMetadata\n",
        "\n",
        "feature_metadata = FeatureMetadata(\n",
        "    time_series_id_column_names=time_series_id_column_names, \n",
        "    categorical_features=time_series_id_column_names,\n",
        "    time_column_name=time_column_name)\n",
        "insights = RAIForecastingInsights(\n",
        "    model=model,\n",
        "    train=train,\n",
        "    test=test,\n",
        "    target_column=target_column_name,\n",
        "    feature_metadata=feature_metadata)\n",
        "\n",
        "ResponsibleAIDashboard(insights)"
      ]
    }
  ],
  "metadata": {
    "authors": [
      {
        "name": "jialiu"
      }
    ],
    "categories": [
      "SDK v1",
      "how-to-use-azureml",
      "automated-machine-learning"
    ],
    "category": "tutorial",
    "celltoolbar": "Raw Cell Format",
    "compute": [
      "Remote"
    ],
    "datasets": [
      "Orange Juice Sales"
    ],
    "deployment": [
      "Azure Container Instance"
    ],
    "exclude_from_index": false,
    "framework": [
      "Azure ML AutoML"
    ],
    "friendly_name": "Forecasting orange juice sales with deployment",
    "index_order": 1,
    "kernel_info": {
      "name": "python38-azureml"
    },
    "kernelspec": {
      "display_name": "sktime",
      "language": "python",
      "name": "python3"
    },
    "language_info": {
      "codemirror_mode": {
        "name": "ipython",
        "version": 3
      },
      "file_extension": ".py",
      "mimetype": "text/x-python",
      "name": "python",
      "nbconvert_exporter": "python",
      "pygments_lexer": "ipython3",
      "version": "3.8.16"
    },
    "microsoft": {
      "host": {
        "AzureML": {
          "notebookHasBeenCompleted": true
        }
      }
    },
    "nteract": {
      "version": "nteract-front-end@1.0.0"
    },
    "tags": [
      "None"
    ],
    "task": "Forecasting",
    "vscode": {
      "interpreter": {
        "hash": "6424d405450b15a93ca3015242fc1e51ac658b1b4015ae2fef5559269d9e1e0c"
      }
    }
  },
  "nbformat": 4,
  "nbformat_minor": 4
}
