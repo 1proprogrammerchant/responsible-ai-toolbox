{
 "cells": [
  {
   "cell_type": "markdown",
   "id": "8bf3a3e1",
   "metadata": {},
   "source": [
    "# Getting Started"
   ]
  },
  {
   "cell_type": "markdown",
   "id": "e1491dd2",
   "metadata": {},
   "source": [
    "This getting started notebook is an overview of the functionality in this repository.  Note that this notebook is not runnable, it has a high-level overview of the APIs available and contains links to other notebooks in the repository."
   ]
  },
  {
   "cell_type": "markdown",
   "id": "2bf7fe3a",
   "metadata": {},
   "source": [
    "## Installation"
   ]
  },
  {
   "cell_type": "markdown",
   "id": "07303d17",
   "metadata": {},
   "source": [
    "Use the following `pip` commands to install the Responsible AI Toolbox.\n",
    "\n",
    "If running in jupyter, please make sure to restart the jupyter kernel after installing."
   ]
  },
  {
   "cell_type": "code",
   "execution_count": 1,
   "id": "e9ecd53b",
   "metadata": {},
   "outputs": [
    {
     "name": "stdout",
     "output_type": "stream",
     "text": [
      "Requirement already satisfied: raiwidgets in c:\\users\\hawestra\\anaconda3\\envs\\rai_python3.9\\lib\\site-packages (0.0.0)\n",
      "Requirement already satisfied: rai-core-flask==0.4.0 in c:\\users\\hawestra\\anaconda3\\envs\\rai_python3.9\\lib\\site-packages (from raiwidgets) (0.4.0)\n",
      "Requirement already satisfied: scikit-learn>=0.22.1 in c:\\users\\hawestra\\anaconda3\\envs\\rai_python3.9\\lib\\site-packages (from raiwidgets) (1.0.2)\n",
      "Requirement already satisfied: itsdangerous==2.0.1 in c:\\users\\hawestra\\anaconda3\\envs\\rai_python3.9\\lib\\site-packages (from raiwidgets) (2.0.1)\n",
      "Requirement already satisfied: pandas>=0.25.1 in c:\\users\\hawestra\\anaconda3\\envs\\rai_python3.9\\lib\\site-packages (from raiwidgets) (1.5.0)\n",
      "Requirement already satisfied: lightgbm>=2.0.11 in c:\\users\\hawestra\\anaconda3\\envs\\rai_python3.9\\lib\\site-packages (from raiwidgets) (3.3.3)\n",
      "Requirement already satisfied: erroranalysis>=0.3.11 in c:\\users\\hawestra\\anaconda3\\envs\\rai_python3.9\\lib\\site-packages (from raiwidgets) (0.3.11)\n",
      "Requirement already satisfied: raiutils>=0.2.0 in c:\\users\\hawestra\\anaconda3\\envs\\rai_python3.9\\lib\\site-packages (from raiwidgets) (0.2.0)\n",
      "Requirement already satisfied: scipy>=1.4.1 in c:\\users\\hawestra\\anaconda3\\envs\\rai_python3.9\\lib\\site-packages (from raiwidgets) (1.9.2)\n",
      "Requirement already satisfied: responsibleai==0.0.0 in c:\\users\\hawestra\\anaconda3\\envs\\rai_python3.9\\lib\\site-packages (from raiwidgets) (0.0.0)\n",
      "Requirement already satisfied: numpy>=1.17.2 in c:\\users\\hawestra\\anaconda3\\envs\\rai_python3.9\\lib\\site-packages (from raiwidgets) (1.23.1)\n",
      "Requirement already satisfied: fairlearn>=0.7.0 in c:\\users\\hawestra\\anaconda3\\envs\\rai_python3.9\\lib\\site-packages (from raiwidgets) (0.7.0)\n",
      "Requirement already satisfied: gevent==21.12.0 in c:\\users\\hawestra\\anaconda3\\envs\\rai_python3.9\\lib\\site-packages (from rai-core-flask==0.4.0->raiwidgets) (21.12.0)\n",
      "Requirement already satisfied: Flask-Cors in c:\\users\\hawestra\\anaconda3\\envs\\rai_python3.9\\lib\\site-packages (from rai-core-flask==0.4.0->raiwidgets) (3.0.10)\n",
      "Requirement already satisfied: greenlet==1.1.2 in c:\\users\\hawestra\\anaconda3\\envs\\rai_python3.9\\lib\\site-packages (from rai-core-flask==0.4.0->raiwidgets) (1.1.2)\n",
      "Requirement already satisfied: Werkzeug<2.1.0 in c:\\users\\hawestra\\anaconda3\\envs\\rai_python3.9\\lib\\site-packages (from rai-core-flask==0.4.0->raiwidgets) (2.0.3)\n",
      "Requirement already satisfied: markupsafe<2.1.0 in c:\\users\\hawestra\\anaconda3\\envs\\rai_python3.9\\lib\\site-packages (from rai-core-flask==0.4.0->raiwidgets) (2.0.1)\n",
      "Requirement already satisfied: ipython==7.31.1 in c:\\users\\hawestra\\anaconda3\\envs\\rai_python3.9\\lib\\site-packages (from rai-core-flask==0.4.0->raiwidgets) (7.31.1)\n",
      "Requirement already satisfied: Flask in c:\\users\\hawestra\\anaconda3\\envs\\rai_python3.9\\lib\\site-packages (from rai-core-flask==0.4.0->raiwidgets) (2.1.3)\n",
      "Requirement already satisfied: cffi>=1.12.2 in c:\\users\\hawestra\\anaconda3\\envs\\rai_python3.9\\lib\\site-packages (from gevent==21.12.0->rai-core-flask==0.4.0->raiwidgets) (1.15.1)\n",
      "Requirement already satisfied: setuptools in c:\\users\\hawestra\\anaconda3\\envs\\rai_python3.9\\lib\\site-packages (from gevent==21.12.0->rai-core-flask==0.4.0->raiwidgets) (65.5.0)\n",
      "Requirement already satisfied: zope.event in c:\\users\\hawestra\\anaconda3\\envs\\rai_python3.9\\lib\\site-packages (from gevent==21.12.0->rai-core-flask==0.4.0->raiwidgets) (4.5.0)\n",
      "Requirement already satisfied: zope.interface in c:\\users\\hawestra\\anaconda3\\envs\\rai_python3.9\\lib\\site-packages (from gevent==21.12.0->rai-core-flask==0.4.0->raiwidgets) (5.5.0)\n",
      "Requirement already satisfied: jedi>=0.16 in c:\\users\\hawestra\\anaconda3\\envs\\rai_python3.9\\lib\\site-packages (from ipython==7.31.1->rai-core-flask==0.4.0->raiwidgets) (0.18.1)\n",
      "Requirement already satisfied: decorator in c:\\users\\hawestra\\anaconda3\\envs\\rai_python3.9\\lib\\site-packages (from ipython==7.31.1->rai-core-flask==0.4.0->raiwidgets) (5.1.1)\n",
      "Requirement already satisfied: prompt-toolkit!=3.0.0,!=3.0.1,<3.1.0,>=2.0.0 in c:\\users\\hawestra\\anaconda3\\envs\\rai_python3.9\\lib\\site-packages (from ipython==7.31.1->rai-core-flask==0.4.0->raiwidgets) (3.0.31)\n",
      "Requirement already satisfied: backcall in c:\\users\\hawestra\\anaconda3\\envs\\rai_python3.9\\lib\\site-packages (from ipython==7.31.1->rai-core-flask==0.4.0->raiwidgets) (0.2.0)\n",
      "Requirement already satisfied: matplotlib-inline in c:\\users\\hawestra\\anaconda3\\envs\\rai_python3.9\\lib\\site-packages (from ipython==7.31.1->rai-core-flask==0.4.0->raiwidgets) (0.1.6)\n",
      "Requirement already satisfied: traitlets>=4.2 in c:\\users\\hawestra\\anaconda3\\envs\\rai_python3.9\\lib\\site-packages (from ipython==7.31.1->rai-core-flask==0.4.0->raiwidgets) (5.4.0)\n",
      "Requirement already satisfied: colorama in c:\\users\\hawestra\\anaconda3\\envs\\rai_python3.9\\lib\\site-packages (from ipython==7.31.1->rai-core-flask==0.4.0->raiwidgets) (0.4.5)\n",
      "Requirement already satisfied: pickleshare in c:\\users\\hawestra\\anaconda3\\envs\\rai_python3.9\\lib\\site-packages (from ipython==7.31.1->rai-core-flask==0.4.0->raiwidgets) (0.7.5)\n",
      "Requirement already satisfied: pygments in c:\\users\\hawestra\\anaconda3\\envs\\rai_python3.9\\lib\\site-packages (from ipython==7.31.1->rai-core-flask==0.4.0->raiwidgets) (2.13.0)\n",
      "Requirement already satisfied: numba<0.54.0 in c:\\users\\hawestra\\anaconda3\\envs\\rai_python3.9\\lib\\site-packages (from responsibleai==0.0.0->raiwidgets) (0.53.1)\n",
      "Requirement already satisfied: semver~=2.13.0 in c:\\users\\hawestra\\anaconda3\\envs\\rai_python3.9\\lib\\site-packages (from responsibleai==0.0.0->raiwidgets) (2.13.0)\n",
      "Requirement already satisfied: dice-ml<0.9,>=0.8 in c:\\users\\hawestra\\anaconda3\\envs\\rai_python3.9\\lib\\site-packages (from responsibleai==0.0.0->raiwidgets) (0.8)\n",
      "Requirement already satisfied: networkx<=2.5 in c:\\users\\hawestra\\anaconda3\\envs\\rai_python3.9\\lib\\site-packages (from responsibleai==0.0.0->raiwidgets) (2.5)\n",
      "Requirement already satisfied: econml>=0.13.1 in c:\\users\\hawestra\\anaconda3\\envs\\rai_python3.9\\lib\\site-packages (from responsibleai==0.0.0->raiwidgets) (0.13.1)\n",
      "Requirement already satisfied: jsonschema in c:\\users\\hawestra\\anaconda3\\envs\\rai_python3.9\\lib\\site-packages (from responsibleai==0.0.0->raiwidgets) (4.16.0)\n",
      "Requirement already satisfied: interpret-community>=0.27.0 in c:\\users\\hawestra\\anaconda3\\envs\\rai_python3.9\\lib\\site-packages (from responsibleai==0.0.0->raiwidgets) (0.27.0)\n",
      "Requirement already satisfied: ipykernel<=6.6.0 in c:\\users\\hawestra\\anaconda3\\envs\\rai_python3.9\\lib\\site-packages (from responsibleai==0.0.0->raiwidgets) (6.6.0)\n",
      "Requirement already satisfied: pycparser in c:\\users\\hawestra\\anaconda3\\envs\\rai_python3.9\\lib\\site-packages (from cffi>=1.12.2->gevent==21.12.0->rai-core-flask==0.4.0->raiwidgets) (2.21)\n",
      "Requirement already satisfied: tqdm in c:\\users\\hawestra\\anaconda3\\envs\\rai_python3.9\\lib\\site-packages (from dice-ml<0.9,>=0.8->responsibleai==0.0.0->raiwidgets) (4.64.1)\n",
      "Requirement already satisfied: h5py in c:\\users\\hawestra\\anaconda3\\envs\\rai_python3.9\\lib\\site-packages (from dice-ml<0.9,>=0.8->responsibleai==0.0.0->raiwidgets) (3.7.0)\n",
      "Requirement already satisfied: dowhy<0.8 in c:\\users\\hawestra\\anaconda3\\envs\\rai_python3.9\\lib\\site-packages (from econml>=0.13.1->responsibleai==0.0.0->raiwidgets) (0.7.1)\n",
      "Requirement already satisfied: shap<0.41.0,>=0.38.1 in c:\\users\\hawestra\\anaconda3\\envs\\rai_python3.9\\lib\\site-packages (from econml>=0.13.1->responsibleai==0.0.0->raiwidgets) (0.40.0)\n",
      "Requirement already satisfied: joblib>=0.13.0 in c:\\users\\hawestra\\anaconda3\\envs\\rai_python3.9\\lib\\site-packages (from econml>=0.13.1->responsibleai==0.0.0->raiwidgets) (1.2.0)\n",
      "Requirement already satisfied: sparse in c:\\users\\hawestra\\anaconda3\\envs\\rai_python3.9\\lib\\site-packages (from econml>=0.13.1->responsibleai==0.0.0->raiwidgets) (0.13.0)\n",
      "Requirement already satisfied: statsmodels>=0.10 in c:\\users\\hawestra\\anaconda3\\envs\\rai_python3.9\\lib\\site-packages (from econml>=0.13.1->responsibleai==0.0.0->raiwidgets) (0.13.2)\n",
      "Requirement already satisfied: sympy>=1.4 in c:\\users\\hawestra\\anaconda3\\envs\\rai_python3.9\\lib\\site-packages (from dowhy<0.8->econml>=0.13.1->responsibleai==0.0.0->raiwidgets) (1.11.1)\n",
      "Requirement already satisfied: pydot>=1.4 in c:\\users\\hawestra\\anaconda3\\envs\\rai_python3.9\\lib\\site-packages (from dowhy<0.8->econml>=0.13.1->responsibleai==0.0.0->raiwidgets) (1.4.2)\n",
      "Requirement already satisfied: ml-wrappers==0.2.2 in c:\\users\\hawestra\\anaconda3\\envs\\rai_python3.9\\lib\\site-packages (from interpret-community>=0.27.0->responsibleai==0.0.0->raiwidgets) (0.2.2)\n",
      "Requirement already satisfied: interpret-core[required]<=0.2.7,>=0.1.20 in c:\\users\\hawestra\\anaconda3\\envs\\rai_python3.9\\lib\\site-packages (from interpret-community>=0.27.0->responsibleai==0.0.0->raiwidgets) (0.2.7)\n",
      "Requirement already satisfied: packaging in c:\\users\\hawestra\\anaconda3\\envs\\rai_python3.9\\lib\\site-packages (from interpret-community>=0.27.0->responsibleai==0.0.0->raiwidgets) (21.3)\n",
      "Requirement already satisfied: debugpy<2.0,>=1.0.0 in c:\\users\\hawestra\\anaconda3\\envs\\rai_python3.9\\lib\\site-packages (from ipykernel<=6.6.0->responsibleai==0.0.0->raiwidgets) (1.6.3)\n",
      "Requirement already satisfied: tornado<7.0,>=4.2 in c:\\users\\hawestra\\anaconda3\\envs\\rai_python3.9\\lib\\site-packages (from ipykernel<=6.6.0->responsibleai==0.0.0->raiwidgets) (6.2)\n",
      "Requirement already satisfied: jupyter-client<8.0 in c:\\users\\hawestra\\anaconda3\\envs\\rai_python3.9\\lib\\site-packages (from ipykernel<=6.6.0->responsibleai==0.0.0->raiwidgets) (7.4.2)\n",
      "Requirement already satisfied: parso<0.9.0,>=0.8.0 in c:\\users\\hawestra\\anaconda3\\envs\\rai_python3.9\\lib\\site-packages (from jedi>=0.16->ipython==7.31.1->rai-core-flask==0.4.0->raiwidgets) (0.8.3)\n",
      "Requirement already satisfied: pyzmq>=23.0 in c:\\users\\hawestra\\anaconda3\\envs\\rai_python3.9\\lib\\site-packages (from jupyter-client<8.0->ipykernel<=6.6.0->responsibleai==0.0.0->raiwidgets) (24.0.1)\n",
      "Requirement already satisfied: jupyter-core>=4.9.2 in c:\\users\\hawestra\\anaconda3\\envs\\rai_python3.9\\lib\\site-packages (from jupyter-client<8.0->ipykernel<=6.6.0->responsibleai==0.0.0->raiwidgets) (4.11.1)\n",
      "Requirement already satisfied: python-dateutil>=2.8.2 in c:\\users\\hawestra\\anaconda3\\envs\\rai_python3.9\\lib\\site-packages (from jupyter-client<8.0->ipykernel<=6.6.0->responsibleai==0.0.0->raiwidgets) (2.8.2)\n",
      "Requirement already satisfied: entrypoints in c:\\users\\hawestra\\anaconda3\\envs\\rai_python3.9\\lib\\site-packages (from jupyter-client<8.0->ipykernel<=6.6.0->responsibleai==0.0.0->raiwidgets) (0.4)\n",
      "Requirement already satisfied: nest-asyncio>=1.5.4 in c:\\users\\hawestra\\anaconda3\\envs\\rai_python3.9\\lib\\site-packages (from jupyter-client<8.0->ipykernel<=6.6.0->responsibleai==0.0.0->raiwidgets) (1.5.6)\n",
      "Requirement already satisfied: pywin32>=1.0 in c:\\users\\hawestra\\anaconda3\\envs\\rai_python3.9\\lib\\site-packages (from jupyter-core>=4.9.2->jupyter-client<8.0->ipykernel<=6.6.0->responsibleai==0.0.0->raiwidgets) (304)\n",
      "Requirement already satisfied: wheel in c:\\users\\hawestra\\anaconda3\\envs\\rai_python3.9\\lib\\site-packages (from lightgbm>=2.0.11->raiwidgets) (0.37.1)\n",
      "Requirement already satisfied: llvmlite<0.37,>=0.36.0rc1 in c:\\users\\hawestra\\anaconda3\\envs\\rai_python3.9\\lib\\site-packages (from numba<0.54.0->responsibleai==0.0.0->raiwidgets) (0.36.0)\n",
      "Requirement already satisfied: pytz>=2020.1 in c:\\users\\hawestra\\anaconda3\\envs\\rai_python3.9\\lib\\site-packages (from pandas>=0.25.1->raiwidgets) (2022.4)\n",
      "Requirement already satisfied: wcwidth in c:\\users\\hawestra\\anaconda3\\envs\\rai_python3.9\\lib\\site-packages (from prompt-toolkit!=3.0.0,!=3.0.1,<3.1.0,>=2.0.0->ipython==7.31.1->rai-core-flask==0.4.0->raiwidgets) (0.2.5)\n",
      "Requirement already satisfied: pyparsing>=2.1.4 in c:\\users\\hawestra\\anaconda3\\envs\\rai_python3.9\\lib\\site-packages (from pydot>=1.4->dowhy<0.8->econml>=0.13.1->responsibleai==0.0.0->raiwidgets) (3.0.9)\n",
      "Requirement already satisfied: six>=1.5 in c:\\users\\hawestra\\anaconda3\\envs\\rai_python3.9\\lib\\site-packages (from python-dateutil>=2.8.2->jupyter-client<8.0->ipykernel<=6.6.0->responsibleai==0.0.0->raiwidgets) (1.16.0)\n",
      "Requirement already satisfied: requests in c:\\users\\hawestra\\anaconda3\\envs\\rai_python3.9\\lib\\site-packages (from raiutils>=0.2.0->raiwidgets) (2.25.1)\n",
      "Requirement already satisfied: threadpoolctl>=2.0.0 in c:\\users\\hawestra\\anaconda3\\envs\\rai_python3.9\\lib\\site-packages (from scikit-learn>=0.22.1->raiwidgets) (3.1.0)\n",
      "Requirement already satisfied: slicer==0.0.7 in c:\\users\\hawestra\\anaconda3\\envs\\rai_python3.9\\lib\\site-packages (from shap<0.41.0,>=0.38.1->econml>=0.13.1->responsibleai==0.0.0->raiwidgets) (0.0.7)\n",
      "Requirement already satisfied: cloudpickle in c:\\users\\hawestra\\anaconda3\\envs\\rai_python3.9\\lib\\site-packages (from shap<0.41.0,>=0.38.1->econml>=0.13.1->responsibleai==0.0.0->raiwidgets) (2.2.0)\n",
      "Requirement already satisfied: patsy>=0.5.2 in c:\\users\\hawestra\\anaconda3\\envs\\rai_python3.9\\lib\\site-packages (from statsmodels>=0.10->econml>=0.13.1->responsibleai==0.0.0->raiwidgets) (0.5.3)\n",
      "Requirement already satisfied: mpmath>=0.19 in c:\\users\\hawestra\\anaconda3\\envs\\rai_python3.9\\lib\\site-packages (from sympy>=1.4->dowhy<0.8->econml>=0.13.1->responsibleai==0.0.0->raiwidgets) (1.2.1)\n",
      "Requirement already satisfied: Jinja2>=3.0 in c:\\users\\hawestra\\anaconda3\\envs\\rai_python3.9\\lib\\site-packages (from Flask->rai-core-flask==0.4.0->raiwidgets) (3.1.2)\n",
      "Requirement already satisfied: click>=8.0 in c:\\users\\hawestra\\anaconda3\\envs\\rai_python3.9\\lib\\site-packages (from Flask->rai-core-flask==0.4.0->raiwidgets) (8.1.3)\n",
      "Requirement already satisfied: importlib-metadata>=3.6.0 in c:\\users\\hawestra\\anaconda3\\envs\\rai_python3.9\\lib\\site-packages (from Flask->rai-core-flask==0.4.0->raiwidgets) (5.0.0)\n",
      "Requirement already satisfied: zipp>=0.5 in c:\\users\\hawestra\\anaconda3\\envs\\rai_python3.9\\lib\\site-packages (from importlib-metadata>=3.6.0->Flask->rai-core-flask==0.4.0->raiwidgets) (3.9.0)\n",
      "Requirement already satisfied: attrs>=17.4.0 in c:\\users\\hawestra\\anaconda3\\envs\\rai_python3.9\\lib\\site-packages (from jsonschema->responsibleai==0.0.0->raiwidgets) (22.1.0)\n",
      "Requirement already satisfied: pyrsistent!=0.17.0,!=0.17.1,!=0.17.2,>=0.14.0 in c:\\users\\hawestra\\anaconda3\\envs\\rai_python3.9\\lib\\site-packages (from jsonschema->responsibleai==0.0.0->raiwidgets) (0.18.1)\n",
      "Requirement already satisfied: certifi>=2017.4.17 in c:\\users\\hawestra\\anaconda3\\envs\\rai_python3.9\\lib\\site-packages (from requests->raiutils>=0.2.0->raiwidgets) (2022.9.24)\n",
      "Requirement already satisfied: urllib3<1.27,>=1.21.1 in c:\\users\\hawestra\\anaconda3\\envs\\rai_python3.9\\lib\\site-packages (from requests->raiutils>=0.2.0->raiwidgets) (1.26.11)\n",
      "Requirement already satisfied: chardet<5,>=3.0.2 in c:\\users\\hawestra\\anaconda3\\envs\\rai_python3.9\\lib\\site-packages (from requests->raiutils>=0.2.0->raiwidgets) (4.0.0)\n",
      "Requirement already satisfied: idna<3,>=2.5 in c:\\users\\hawestra\\anaconda3\\envs\\rai_python3.9\\lib\\site-packages (from requests->raiutils>=0.2.0->raiwidgets) (2.10)\n"
     ]
    }
   ],
   "source": [
    "!pip install raiwidgets"
   ]
  },
  {
   "cell_type": "markdown",
   "id": "60dca68e",
   "metadata": {},
   "source": [
    "## Dependencies"
   ]
  },
  {
   "cell_type": "markdown",
   "id": "1bf0e821",
   "metadata": {},
   "source": [
    "Please make sure to have the latest version of pandas installed if you are planning to use the error analysis component."
   ]
  },
  {
   "cell_type": "code",
   "execution_count": 2,
   "id": "666416c0",
   "metadata": {},
   "outputs": [
    {
     "name": "stdout",
     "output_type": "stream",
     "text": [
      "Requirement already satisfied: pandas in c:\\users\\hawestra\\anaconda3\\envs\\rai_python3.9\\lib\\site-packages (1.5.0)\n",
      "Requirement already satisfied: numpy>=1.20.3 in c:\\users\\hawestra\\anaconda3\\envs\\rai_python3.9\\lib\\site-packages (from pandas) (1.23.1)\n",
      "Requirement already satisfied: python-dateutil>=2.8.1 in c:\\users\\hawestra\\anaconda3\\envs\\rai_python3.9\\lib\\site-packages (from pandas) (2.8.2)\n",
      "Requirement already satisfied: pytz>=2020.1 in c:\\users\\hawestra\\anaconda3\\envs\\rai_python3.9\\lib\\site-packages (from pandas) (2022.4)\n",
      "Requirement already satisfied: six>=1.5 in c:\\users\\hawestra\\anaconda3\\envs\\rai_python3.9\\lib\\site-packages (from python-dateutil>=2.8.1->pandas) (1.16.0)\n"
     ]
    }
   ],
   "source": [
    "!pip install --upgrade pandas"
   ]
  },
  {
   "cell_type": "markdown",
   "id": "f46ea6a5",
   "metadata": {},
   "source": [
    "## Overview & Setup"
   ]
  },
  {
   "cell_type": "markdown",
   "id": "da3c519c",
   "metadata": {},
   "source": [
    "Responsible AI Toolbox is an interoperable, customizable tool that empowers machine learning practitioners to evaluate their models and data based on their place in the model lifecycle.\n",
    "\n",
    "Users may select components whose functionality supports their current objectives. First, the RAIInsights and ResponsibleAIDashboard must be imported."
   ]
  },
  {
   "cell_type": "code",
   "execution_count": 3,
   "id": "2af7324b",
   "metadata": {},
   "outputs": [],
   "source": [
    "from raiwidgets import ResponsibleAIDashboard\n",
    "from responsibleai import RAIInsights"
   ]
  },
  {
   "cell_type": "markdown",
   "id": "9f152ac8",
   "metadata": {},
   "source": [
    "Users will need to load a dataset, spit it into train and test datasets, and train a model on the training dataset."
   ]
  },
  {
   "cell_type": "markdown",
   "id": "88a8e0fd",
   "metadata": {},
   "source": [
    "It is necessary to initialize a RAIInsights object upon which the different components can be loaded. `task_type` holds the string `'regression'` or `'classification'` depending on the developer's purpose.\n",
    "\n",
    "Users can also specify categorical features via the `categorical_features` parameter."
   ]
  },
  {
   "cell_type": "markdown",
   "id": "c9433f32",
   "metadata": {},
   "source": [
    "```Python\n",
    "task_type = 'regression'\n",
    "rai_insights = RAIInsights(model, train_data, test_data, target_feature, task_type)\n",
    "```"
   ]
  },
  {
   "cell_type": "markdown",
   "id": "c360364e",
   "metadata": {},
   "source": [
    "The Interpretability and Error Analysis components can be added to the dashboard without any additional arguments.\n",
    "\n",
    "For an example, please see the [census classification model debugging notebook](https://github.com/microsoft/responsible-ai-toolbox/blob/main/notebooks/responsibleaidashboard/responsibleaidashboard-census-classification-model-debugging.ipynb)."
   ]
  },
  {
   "cell_type": "markdown",
   "id": "407571b5",
   "metadata": {},
   "source": [
    "```Python\n",
    "rai_insights.explainer.add()\n",
    "rai_insights.error_analysis.add()\n",
    "```"
   ]
  },
  {
   "cell_type": "markdown",
   "id": "714655b3",
   "metadata": {},
   "source": [
    "The Causal Inferencing component must be added with a specification of the feature that would be changed as a treatment.\n",
    "\n",
    "For an example, please see the [diabetes decision making notebook](https://github.com/microsoft/responsible-ai-toolbox/blob/main/notebooks/responsibleaidashboard/responsibleaidashboard-diabetes-decision-making.ipynb)."
   ]
  },
  {
   "cell_type": "markdown",
   "id": "70f6f73e",
   "metadata": {},
   "source": [
    "```Python\n",
    "rai_insights.causal.add(treatment_features=['bmi', 'bp', 's2'])\n",
    "```"
   ]
  },
  {
   "cell_type": "markdown",
   "id": "7f5e8f45",
   "metadata": {},
   "source": [
    "The Counterfactuals component takes arguments specifying the number of counterfactuals to generate, the list of columns containing continuous values, and the desired label of the counterfactuals."
   ]
  },
  {
   "cell_type": "markdown",
   "id": "308d93ad",
   "metadata": {},
   "source": [
    "In a classification situation, `desired_class` must specify the classification that the generated counterfactuals would fall into.\n",
    "\n",
    "For an example, please see the [housing classification model debugging notebook](https://github.com/microsoft/responsible-ai-toolbox/blob/main/notebooks/responsibleaidashboard/responsibleaidashboard-housing-classification-model-debugging.ipynb)."
   ]
  },
  {
   "cell_type": "markdown",
   "id": "c7c244f2",
   "metadata": {},
   "source": [
    "```Python\n",
    "rai_insights.counterfactual.add(total_CFs=20, desired_class='opposite')\n",
    "```"
   ]
  },
  {
   "cell_type": "markdown",
   "id": "aa9ec639",
   "metadata": {},
   "source": [
    "In a regression situation, `desired_range` must specify the minimum and maximum label that the generated counterfactuals can have.\n",
    "For an example, please see the [diabetes regression model debugging notebook](https://github.com/microsoft/responsible-ai-toolbox/blob/main/notebooks/responsibleaidashboard/responsibleaidashboard-diabetes-regression-model-debugging.ipynb)."
   ]
  },
  {
   "cell_type": "markdown",
   "id": "824449d9",
   "metadata": {},
   "source": [
    "```Python\n",
    "rai_insights.counterfactual.add(total_CFs=20, desired_range=[50, 120])\n",
    "```"
   ]
  },
  {
   "cell_type": "markdown",
   "id": "3031a740",
   "metadata": {},
   "source": [
    "## Computing and Visualizing Insights"
   ]
  },
  {
   "cell_type": "markdown",
   "id": "b3a4aec0",
   "metadata": {},
   "source": [
    "After loading the components into the RAIInsights object, it is necessary to calculate values relevant to them, such as model metrics and counterfactuals."
   ]
  },
  {
   "cell_type": "markdown",
   "id": "c3e534a3",
   "metadata": {},
   "source": [
    "```Python\n",
    "rai_insights.compute()\n",
    "```"
   ]
  },
  {
   "cell_type": "markdown",
   "id": "d2e05195",
   "metadata": {},
   "source": [
    "Once the values for each component have been computed, they can be displayed by loading the RAIInsights object into a ResponsibleAIDashboard."
   ]
  },
  {
   "cell_type": "markdown",
   "id": "3188e42d",
   "metadata": {},
   "source": [
    "```Python\n",
    "ResponsibleAIDashboard(rai_insights)\n",
    "```"
   ]
  },
  {
   "cell_type": "markdown",
   "id": "17df1a35",
   "metadata": {},
   "source": [
    "## Learn More"
   ]
  },
  {
   "cell_type": "markdown",
   "id": "10b56cde",
   "metadata": {},
   "source": [
    "Visit the [GitHub](https://github.com/microsoft/responsible-ai-widgets) of Responsible AI Toolbox for more details, and take this [dashboard tour](./tour.ipynb) for an explanation of the different parts of each component."
   ]
  }
 ],
 "metadata": {
  "kernelspec": {
   "display_name": "RAI (python 3.9)",
   "language": "python",
   "name": "rai_python3.9"
  },
  "language_info": {
   "codemirror_mode": {
    "name": "ipython",
    "version": 3
   },
   "file_extension": ".py",
   "mimetype": "text/x-python",
   "name": "python",
   "nbconvert_exporter": "python",
   "pygments_lexer": "ipython3",
   "version": "3.9.12"
  }
 },
 "nbformat": 4,
 "nbformat_minor": 5
}
