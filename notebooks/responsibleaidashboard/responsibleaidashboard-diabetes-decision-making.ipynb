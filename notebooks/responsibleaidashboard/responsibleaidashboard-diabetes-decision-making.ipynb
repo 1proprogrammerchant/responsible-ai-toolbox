{
 "cells": [
  {
   "cell_type": "markdown",
   "id": "75018d5c",
   "metadata": {},
   "source": [
    "# Plan real-world action using counterfactual example analysis and causal analysis"
   ]
  },
  {
   "cell_type": "markdown",
   "id": "d4939847",
   "metadata": {},
   "source": [
    "This notebook demonstrates the use of the Responsible AI Toolbox to make decisions from diabetes progression data. It walks through the API calls necessary to create a widget with causal inferencing insights, then guides a visual analysis of the data."
   ]
  },
  {
   "cell_type": "markdown",
   "id": "231caa35",
   "metadata": {},
   "source": [
    "* [Launch Responsible AI Toolbox](#Launch-Responsible-AI-Toolbox)\n",
    "    * [Train a Model](#Train-a-Model)\n",
    "    * [Create Model and Data Insights](#Create-Model-and-Data-Insights)\n",
    "* [Take Real-World Action](#Take-Real-World-Action)\n",
    "    * [What-If Counterfactuals Analysis](#What-If-Counterfactuals-Analysis)\n",
    "    * [Causal Analysis](#Causal-Analysis)"
   ]
  },
  {
   "cell_type": "markdown",
   "id": "8cfa82d1",
   "metadata": {},
   "source": [
    "## Launch Responsible AI Toolbox"
   ]
  },
  {
   "cell_type": "markdown",
   "id": "789b30d1",
   "metadata": {},
   "source": [
    "The following section examines the code necessary to create the dataset. It then generates insights using the `responsibleai` API that can be visually analyzed."
   ]
  },
  {
   "cell_type": "markdown",
   "id": "3e43e464",
   "metadata": {},
   "source": [
    "### Train a Model\n",
    "*The following section can be skipped. It loads a dataset for illustrative purposes.*"
   ]
  },
  {
   "cell_type": "code",
   "execution_count": 1,
   "id": "a670ba8c",
   "metadata": {},
   "outputs": [],
   "source": [
    "import shap\n",
    "import sklearn\n",
    "import pandas as pd\n",
    "\n",
    "from sklearn.model_selection import train_test_split\n",
    "from sklearn.ensemble import RandomForestRegressor"
   ]
  },
  {
   "cell_type": "markdown",
   "id": "a4f53194",
   "metadata": {},
   "source": [
    "First, load the diabetes dataset and specify the different types of features. Then, clean it and put it into a DataFrame with named columns."
   ]
  },
  {
   "cell_type": "code",
   "execution_count": 2,
   "id": "479ad4f8",
   "metadata": {},
   "outputs": [],
   "source": [
    "data = sklearn.datasets.load_diabetes()\n",
    "target_feature = 'y'\n",
    "continuous_features = data.feature_names\n",
    "data_df = pd.DataFrame(data.data, columns=data.feature_names)"
   ]
  },
  {
   "cell_type": "markdown",
   "id": "c7cdd8ae",
   "metadata": {},
   "source": [
    "After loading and cleaning the data, split the datapoints into training and test sets. Assemble separate datasets for the training and test data."
   ]
  },
  {
   "cell_type": "code",
   "execution_count": 3,
   "id": "4e02d132",
   "metadata": {},
   "outputs": [
    {
     "data": {
      "text/html": [
       "<div>\n",
       "<style scoped>\n",
       "    .dataframe tbody tr th:only-of-type {\n",
       "        vertical-align: middle;\n",
       "    }\n",
       "\n",
       "    .dataframe tbody tr th {\n",
       "        vertical-align: top;\n",
       "    }\n",
       "\n",
       "    .dataframe thead th {\n",
       "        text-align: right;\n",
       "    }\n",
       "</style>\n",
       "<table border=\"1\" class=\"dataframe\">\n",
       "  <thead>\n",
       "    <tr style=\"text-align: right;\">\n",
       "      <th></th>\n",
       "      <th>age</th>\n",
       "      <th>sex</th>\n",
       "      <th>bmi</th>\n",
       "      <th>bp</th>\n",
       "      <th>s2</th>\n",
       "      <th>s3</th>\n",
       "      <th>s4</th>\n",
       "      <th>s5</th>\n",
       "      <th>s6</th>\n",
       "    </tr>\n",
       "  </thead>\n",
       "  <tbody>\n",
       "    <tr>\n",
       "      <th>32</th>\n",
       "      <td>0.034443</td>\n",
       "      <td>0.050680</td>\n",
       "      <td>0.125287</td>\n",
       "      <td>0.028758</td>\n",
       "      <td>-0.012900</td>\n",
       "      <td>-0.102307</td>\n",
       "      <td>0.108111</td>\n",
       "      <td>0.000271</td>\n",
       "      <td>0.027917</td>\n",
       "    </tr>\n",
       "    <tr>\n",
       "      <th>403</th>\n",
       "      <td>-0.020045</td>\n",
       "      <td>-0.044642</td>\n",
       "      <td>0.097264</td>\n",
       "      <td>-0.005671</td>\n",
       "      <td>-0.023861</td>\n",
       "      <td>-0.021311</td>\n",
       "      <td>-0.002592</td>\n",
       "      <td>0.061686</td>\n",
       "      <td>0.040343</td>\n",
       "    </tr>\n",
       "    <tr>\n",
       "      <th>270</th>\n",
       "      <td>0.005383</td>\n",
       "      <td>0.050680</td>\n",
       "      <td>0.030440</td>\n",
       "      <td>0.083844</td>\n",
       "      <td>-0.047347</td>\n",
       "      <td>0.015505</td>\n",
       "      <td>-0.039493</td>\n",
       "      <td>0.008640</td>\n",
       "      <td>0.015491</td>\n",
       "    </tr>\n",
       "    <tr>\n",
       "      <th>57</th>\n",
       "      <td>-0.027310</td>\n",
       "      <td>-0.044642</td>\n",
       "      <td>-0.063330</td>\n",
       "      <td>-0.050428</td>\n",
       "      <td>-0.104340</td>\n",
       "      <td>0.052322</td>\n",
       "      <td>-0.076395</td>\n",
       "      <td>-0.056158</td>\n",
       "      <td>-0.067351</td>\n",
       "    </tr>\n",
       "    <tr>\n",
       "      <th>369</th>\n",
       "      <td>-0.009147</td>\n",
       "      <td>-0.044642</td>\n",
       "      <td>0.037984</td>\n",
       "      <td>-0.040099</td>\n",
       "      <td>-0.003819</td>\n",
       "      <td>-0.043401</td>\n",
       "      <td>0.015858</td>\n",
       "      <td>-0.005145</td>\n",
       "      <td>0.027917</td>\n",
       "    </tr>\n",
       "    <tr>\n",
       "      <th>...</th>\n",
       "      <td>...</td>\n",
       "      <td>...</td>\n",
       "      <td>...</td>\n",
       "      <td>...</td>\n",
       "      <td>...</td>\n",
       "      <td>...</td>\n",
       "      <td>...</td>\n",
       "      <td>...</td>\n",
       "      <td>...</td>\n",
       "    </tr>\n",
       "    <tr>\n",
       "      <th>211</th>\n",
       "      <td>0.092564</td>\n",
       "      <td>-0.044642</td>\n",
       "      <td>0.036907</td>\n",
       "      <td>0.021872</td>\n",
       "      <td>-0.016658</td>\n",
       "      <td>0.000779</td>\n",
       "      <td>-0.039493</td>\n",
       "      <td>-0.022512</td>\n",
       "      <td>-0.021788</td>\n",
       "    </tr>\n",
       "    <tr>\n",
       "      <th>67</th>\n",
       "      <td>0.041708</td>\n",
       "      <td>0.050680</td>\n",
       "      <td>-0.014828</td>\n",
       "      <td>-0.017147</td>\n",
       "      <td>0.008394</td>\n",
       "      <td>-0.013948</td>\n",
       "      <td>-0.001854</td>\n",
       "      <td>-0.011901</td>\n",
       "      <td>0.003064</td>\n",
       "    </tr>\n",
       "    <tr>\n",
       "      <th>25</th>\n",
       "      <td>-0.067268</td>\n",
       "      <td>0.050680</td>\n",
       "      <td>-0.012673</td>\n",
       "      <td>-0.040099</td>\n",
       "      <td>0.004636</td>\n",
       "      <td>-0.058127</td>\n",
       "      <td>0.034309</td>\n",
       "      <td>0.019199</td>\n",
       "      <td>-0.034215</td>\n",
       "    </tr>\n",
       "    <tr>\n",
       "      <th>196</th>\n",
       "      <td>-0.023677</td>\n",
       "      <td>-0.044642</td>\n",
       "      <td>-0.046085</td>\n",
       "      <td>-0.033214</td>\n",
       "      <td>0.036264</td>\n",
       "      <td>0.037595</td>\n",
       "      <td>-0.002592</td>\n",
       "      <td>-0.033249</td>\n",
       "      <td>0.011349</td>\n",
       "    </tr>\n",
       "    <tr>\n",
       "      <th>175</th>\n",
       "      <td>0.067136</td>\n",
       "      <td>-0.044642</td>\n",
       "      <td>-0.038540</td>\n",
       "      <td>-0.026328</td>\n",
       "      <td>-0.026366</td>\n",
       "      <td>0.008142</td>\n",
       "      <td>-0.039493</td>\n",
       "      <td>-0.027129</td>\n",
       "      <td>0.003064</td>\n",
       "    </tr>\n",
       "  </tbody>\n",
       "</table>\n",
       "<p>353 rows × 9 columns</p>\n",
       "</div>"
      ],
      "text/plain": [
       "          age       sex       bmi        bp        s2        s3        s4  \\\n",
       "32   0.034443  0.050680  0.125287  0.028758 -0.012900 -0.102307  0.108111   \n",
       "403 -0.020045 -0.044642  0.097264 -0.005671 -0.023861 -0.021311 -0.002592   \n",
       "270  0.005383  0.050680  0.030440  0.083844 -0.047347  0.015505 -0.039493   \n",
       "57  -0.027310 -0.044642 -0.063330 -0.050428 -0.104340  0.052322 -0.076395   \n",
       "369 -0.009147 -0.044642  0.037984 -0.040099 -0.003819 -0.043401  0.015858   \n",
       "..        ...       ...       ...       ...       ...       ...       ...   \n",
       "211  0.092564 -0.044642  0.036907  0.021872 -0.016658  0.000779 -0.039493   \n",
       "67   0.041708  0.050680 -0.014828 -0.017147  0.008394 -0.013948 -0.001854   \n",
       "25  -0.067268  0.050680 -0.012673 -0.040099  0.004636 -0.058127  0.034309   \n",
       "196 -0.023677 -0.044642 -0.046085 -0.033214  0.036264  0.037595 -0.002592   \n",
       "175  0.067136 -0.044642 -0.038540 -0.026328 -0.026366  0.008142 -0.039493   \n",
       "\n",
       "           s5        s6  \n",
       "32   0.000271  0.027917  \n",
       "403  0.061686  0.040343  \n",
       "270  0.008640  0.015491  \n",
       "57  -0.056158 -0.067351  \n",
       "369 -0.005145  0.027917  \n",
       "..        ...       ...  \n",
       "211 -0.022512 -0.021788  \n",
       "67  -0.011901  0.003064  \n",
       "25   0.019199 -0.034215  \n",
       "196 -0.033249  0.011349  \n",
       "175 -0.027129  0.003064  \n",
       "\n",
       "[353 rows x 9 columns]"
      ]
     },
     "execution_count": 3,
     "metadata": {},
     "output_type": "execute_result"
    }
   ],
   "source": [
    "X_train, X_test, y_train, y_test = train_test_split(data_df, data.target, test_size=0.2, random_state=7)\n",
    "\n",
    "train_data = X_train.copy()\n",
    "test_data = X_test.copy()\n",
    "train_data[target_feature] = y_train\n",
    "test_data[target_feature] = y_test\n",
    "X_train_drop = X_train.drop(['s1'], axis=1)\n",
    "data.feature_names\n",
    "X_train_drop"
   ]
  },
  {
   "cell_type": "markdown",
   "id": "59853607",
   "metadata": {},
   "source": [
    "Train a nearest-neighbors classifier on the training data."
   ]
  },
  {
   "cell_type": "code",
   "execution_count": 4,
   "id": "6612038f",
   "metadata": {},
   "outputs": [
    {
     "data": {
      "text/plain": [
       "RandomForestRegressor(random_state=0)"
      ]
     },
     "execution_count": 4,
     "metadata": {},
     "output_type": "execute_result"
    }
   ],
   "source": [
    "model = RandomForestRegressor(random_state=0)\n",
    "model.fit(X_train_drop, y_train)"
   ]
  },
  {
   "cell_type": "markdown",
   "id": "29805164",
   "metadata": {},
   "source": [
    "### Create Model and Data Insights"
   ]
  },
  {
   "cell_type": "code",
   "execution_count": 5,
   "id": "c65f788f",
   "metadata": {},
   "outputs": [],
   "source": [
    "from raiwidgets import ResponsibleAIDashboard\n",
    "from responsibleai import RAIInsights"
   ]
  },
  {
   "cell_type": "markdown",
   "id": "400de1d9",
   "metadata": {},
   "source": [
    "To use Responsible AI Toolbox, initialize a RAIInsights object upon which different components can be loaded.\n",
    "\n",
    "RAIInsights accepts the model, the train dataset, the test dataset, the target feature string, the task type string, and a list of strings of categorical feature names as its arguments."
   ]
  },
  {
   "cell_type": "code",
   "execution_count": 6,
   "id": "d965f769",
   "metadata": {},
   "outputs": [
    {
     "name": "stderr",
     "output_type": "stream",
     "text": [
      "dropped_features are not in use currently.\n"
     ]
    }
   ],
   "source": [
    "from responsibleai.feature_metadata import FeatureMetadata\n",
    "\n",
    "feature_metadata = FeatureMetadata(identity_feature_name='s1', dropped_features=['s1'])\n",
    "\n",
    "rai_insights = RAIInsights(model, train_data, test_data, target_feature, 'regression',\n",
    "                               categorical_features=[], feature_metadata=feature_metadata)"
   ]
  },
  {
   "cell_type": "markdown",
   "id": "38fbbe06",
   "metadata": {},
   "source": [
    "Add the components of the toolbox that are focused on decision-making."
   ]
  },
  {
   "cell_type": "code",
   "execution_count": 7,
   "id": "24567d8d",
   "metadata": {},
   "outputs": [],
   "source": [
    "# Counterfactuals: accepts total number of counterfactuals to generate, the range that their label should fall under, \n",
    "# and a list of strings of categorical feature names\n",
    "rai_insights.counterfactual.add(total_CFs=20, desired_range=[50, 120])\n",
    "# Causal Inference: determines causation between features\n",
    "rai_insights.causal.add(treatment_features=['bmi', 'bp', 's2'])\n",
    "rai_insights.explainer.add(treatment_features=['bmi', 'bp', 's2'])"
   ]
  },
  {
   "cell_type": "markdown",
   "id": "571b2235",
   "metadata": {},
   "source": [
    "Once all the desired components have been loaded, compute insights on the test set."
   ]
  },
  {
   "cell_type": "code",
   "execution_count": 8,
   "id": "a7dec636",
   "metadata": {},
   "outputs": [
    {
     "name": "stderr",
     "output_type": "stream",
     "text": [
      "100%|██████████| 89/89 [01:04<00:00,  1.38it/s]\n"
     ]
    }
   ],
   "source": [
    "rai_insights.compute()"
   ]
  },
  {
   "cell_type": "markdown",
   "id": "0ad206fd",
   "metadata": {},
   "source": [
    "Compose some cohorts which can be injected into the `ResponsibleAIDashboard`."
   ]
  },
  {
   "cell_type": "code",
   "execution_count": 9,
   "id": "7a039b34",
   "metadata": {},
   "outputs": [],
   "source": [
    "from raiwidgets.cohort import Cohort, CohortFilter, CohortFilterMethods\n",
    "\n",
    "# Cohort on age and bmi features in the dataset\n",
    "cohort_filter_age = CohortFilter(\n",
    "    method=CohortFilterMethods.METHOD_LESS,\n",
    "    arg=[40],\n",
    "    column='age')\n",
    "cohort_filter_bmi = CohortFilter(\n",
    "    method=CohortFilterMethods.METHOD_GREATER,\n",
    "    arg=[0],\n",
    "    column='bmi')\n",
    "    \n",
    "user_cohort_age_and_bmi= Cohort(name='Cohort Age and BMI')\n",
    "user_cohort_age_and_bmi.add_cohort_filter(cohort_filter_age)\n",
    "user_cohort_age_and_bmi.add_cohort_filter(cohort_filter_bmi)\n",
    "\n",
    "# Cohort on index\n",
    "cohort_filter_index = CohortFilter(\n",
    "    method=CohortFilterMethods.METHOD_LESS,\n",
    "    arg=[20],\n",
    "    column='Index')\n",
    "\n",
    "user_cohort_index = Cohort(name='Cohort Index')\n",
    "user_cohort_index.add_cohort_filter(cohort_filter_index)\n",
    "\n",
    "# Cohort on predicted y values\n",
    "cohort_filter_predicted_y = CohortFilter(\n",
    "    method=CohortFilterMethods.METHOD_LESS,\n",
    "    arg=[165.0],\n",
    "    column='Predicted Y')\n",
    "\n",
    "user_cohort_predicted_y = Cohort(name='Cohort Predicted Y')\n",
    "user_cohort_predicted_y.add_cohort_filter(cohort_filter_predicted_y)\n",
    "\n",
    "# Cohort on true y values\n",
    "cohort_filter_true_y = CohortFilter(\n",
    "    method=CohortFilterMethods.METHOD_GREATER,\n",
    "    arg=[45.0],\n",
    "    column='True Y')\n",
    "\n",
    "user_cohort_true_y = Cohort(name='Cohort True Y')\n",
    "user_cohort_true_y.add_cohort_filter(cohort_filter_true_y)\n",
    "\n",
    "# Cohort on true y values\n",
    "cohort_filter_regression_error = CohortFilter(\n",
    "    method=CohortFilterMethods.METHOD_GREATER,\n",
    "    arg=[20.0],\n",
    "    column='Error')\n",
    "\n",
    "user_cohort_regression_error = Cohort(name='Cohort Regression Error')\n",
    "user_cohort_regression_error.add_cohort_filter(cohort_filter_regression_error)\n",
    "\n",
    "cohort_list = [user_cohort_age_and_bmi,\n",
    "               user_cohort_index,\n",
    "               user_cohort_predicted_y,\n",
    "               user_cohort_true_y,\n",
    "               user_cohort_regression_error]"
   ]
  },
  {
   "cell_type": "markdown",
   "id": "54a43b5c",
   "metadata": {},
   "source": [
    "Finally, visualize and explore the model insights. Use the resulting widget or follow the link to view this in a new tab."
   ]
  },
  {
   "cell_type": "code",
   "execution_count": 10,
   "id": "ad84c884",
   "metadata": {},
   "outputs": [
    {
     "name": "stdout",
     "output_type": "stream",
     "text": [
      "ResponsibleAI started at http://localhost:5000\n"
     ]
    },
    {
     "data": {
      "text/plain": [
       "<raiwidgets.responsibleai_dashboard.ResponsibleAIDashboard at 0x1ff2d331cc8>"
      ]
     },
     "execution_count": 10,
     "metadata": {},
     "output_type": "execute_result"
    },
    {
     "name": "stderr",
     "output_type": "stream",
     "text": [
      "The feature names should match those that were passed during fit. Starting version 1.2, an error will be raised.\n",
      "Feature names unseen at fit time:\n",
      "- s1\n",
      "Feature names must be in the same order as they were in fit.\n",
      "\n",
      "Traceback (most recent call last):\n",
      "  File \"c:\\users\\gaugup\\documents\\github\\responsible-ai-toolbox\\raiwidgets\\raiwidgets\\responsibleai_dashboard_input.py\", line 107, in on_predict\n",
      "    self._analysis.model.predict(data), EXP_VIZ_ERR_MSG)\n",
      "  File \"c:\\Users\\gaugup\\Anaconda3\\envs\\rai\\lib\\site-packages\\sklearn\\ensemble\\_forest.py\", line 961, in predict\n",
      "    X = self._validate_X_predict(X)\n",
      "  File \"c:\\Users\\gaugup\\Anaconda3\\envs\\rai\\lib\\site-packages\\sklearn\\ensemble\\_forest.py\", line 569, in _validate_X_predict\n",
      "    X = self._validate_data(X, dtype=DTYPE, accept_sparse=\"csr\", reset=False)\n",
      "  File \"c:\\Users\\gaugup\\Anaconda3\\envs\\rai\\lib\\site-packages\\sklearn\\base.py\", line 580, in _validate_data\n",
      "    self._check_n_features(X, reset=reset)\n",
      "  File \"c:\\Users\\gaugup\\Anaconda3\\envs\\rai\\lib\\site-packages\\sklearn\\base.py\", line 396, in _check_n_features\n",
      "    f\"X has {n_features} features, but {self.__class__.__name__} \"\n",
      "ValueError: X has 10 features, but RandomForestRegressor is expecting 9 features as input.\n"
     ]
    },
    {
     "name": "stdout",
     "output_type": "stream",
     "text": [
      "X has 10 features, but RandomForestRegressor is expecting 9 features as input.\n"
     ]
    }
   ],
   "source": [
    "ResponsibleAIDashboard(rai_insights, cohort_list=cohort_list)"
   ]
  },
  {
   "cell_type": "markdown",
   "id": "fb2ab57e",
   "metadata": {},
   "source": [
    "## Take Real-World Action"
   ]
  },
  {
   "cell_type": "markdown",
   "id": "84325421",
   "metadata": {},
   "source": [
    "### What-If Counterfactuals Analysis"
   ]
  },
  {
   "cell_type": "markdown",
   "id": "d292d247",
   "metadata": {},
   "source": [
    "Let's imagine that the diabetes progression scores predicted by the model are used to determine medical insurance rates. If the score is greater than 120, there is a higher rate. Patient 43's model score of 268.08 results in this increased rate, and they want to know how they should change their health to get a lower rate prediction from the model (leading to lower insurance price).\n",
    "\n",
    "The What-If counterfactuals component shows how slightly different feature values affect model predictions. This can be used to solve Patient 43's problem."
   ]
  },
  {
   "attachments": {},
   "cell_type": "markdown",
   "id": "d459156b",
   "metadata": {},
   "source": [
    "![What-If Counterfactuals component with datapoint 43 selected on the scatter plot with axes \"Predicted Y\" and \"Index\"](./img/regression-decision-making-1.png)"
   ]
  },
  {
   "cell_type": "markdown",
   "id": "d7b86696",
   "metadata": {},
   "source": [
    "What can Patient 43 do to create the desired change? The top ranked features bar plot shows that `bmi` and `s5` are the best to perturb to bring the model score within 120."
   ]
  },
  {
   "attachments": {},
   "cell_type": "markdown",
   "id": "b16d1a6c",
   "metadata": {},
   "source": [
    "![Top-ranked features (descending) for datapoint 43 to perturb to reduce model prediction below 120: bmi, s5, s4, s3, age, bp, sex, s1, s2, s6](./img/regression-decision-making-2.png)"
   ]
  },
  {
   "cell_type": "markdown",
   "id": "709c3019",
   "metadata": {},
   "source": [
    "Let's see how that can be achieved. Change `bmi` to -0.04 and `s5` to -0.042 and see what the result is."
   ]
  },
  {
   "attachments": {},
   "cell_type": "markdown",
   "id": "5faa62ea",
   "metadata": {},
   "source": [
    "![Counterfactual creation panel. BMI has been changed to -0.04 and s5 has been changed to -0.042](./img/regression-decision-making-3.png)"
   ]
  },
  {
   "cell_type": "markdown",
   "id": "a9f67339",
   "metadata": {},
   "source": [
    "As we can see, the model's prediction has dropped to 131.22. Thus, Patient 43 should work on reducing their [body mass index and serum triglycerides level](https://scikit-learn.org/stable/datasets/toy_dataset.html#diabetes-dataset) to bring the model score under the insurance threshold."
   ]
  },
  {
   "attachments": {},
   "cell_type": "markdown",
   "id": "22d445d7",
   "metadata": {},
   "source": [
    "![Counterfactual of datapoint 43 selected on the counterfactuals scatter plot with axes \"Predicted Y\" and \"Index\". Predicted Y is 115.4](./img/regression-decision-making-4.png)"
   ]
  },
  {
   "cell_type": "markdown",
   "id": "b4f78fd8",
   "metadata": {},
   "source": [
    "Note that this result does not mean that reducing `bmi` and `s5` *causes* the diabetes progression score to go down. It simply decreases the model prediction. To investigate causal relationships, continue reading:"
   ]
  },
  {
   "cell_type": "markdown",
   "id": "b134cdb5",
   "metadata": {},
   "source": [
    "### Causal Analysis"
   ]
  },
  {
   "cell_type": "markdown",
   "id": "da76466d",
   "metadata": {},
   "source": [
    "Now suppose that a doctor wishes to know how to reduce the progression of diabetes in her patients. This can be explored in the Causal Inference component of the Responsible AI Toolbox.\n",
    "\n",
    "In the \"Aggregate causal effects\" tab, it is possible to see how perturbing features causes lower disease progression. It appears that increasing s2 (LDL) by one unit, would increase diabetes progression by 606.89 units."
   ]
  },
  {
   "attachments": {},
   "cell_type": "markdown",
   "id": "90b838d8",
   "metadata": {},
   "source": [
    "![Overall causal analysis table](./img/regression-decision-making-5.png)\n",
    "![Causal analysis diagram](./img/regression-decision-making-6.png)"
   ]
  },
  {
   "cell_type": "markdown",
   "id": "f6078481",
   "metadata": {},
   "source": [
    "Let's revisit Patient 43. Instead of simply reducing the model score, they've decided to focus on actually improving their health to manage their diabetes better. In the \"Individual causal what-if\" tab, it shows that decreasing his/her bmi to 0.05 reduces diabetes progression from 242 to 237.982."
   ]
  },
  {
   "attachments": {},
   "cell_type": "markdown",
   "id": "93105414",
   "metadata": {},
   "source": [
    "![individual causal analysis table](./img/regression-decision-making-7.png)"
   ]
  },
  {
   "cell_type": "markdown",
   "id": "a6fa7384",
   "metadata": {},
   "source": [
    "To put that into a formal intervention policy, switch to the \"Treatment policy\" tab. This view helps build policies for future interventions. You can identify what parts of your sample experience the largest responses to changes in causal features, or treatments, and construct rules to define which future populations should be targeted for particular interventions."
   ]
  },
  {
   "attachments": {},
   "cell_type": "markdown",
   "id": "d1af0772",
   "metadata": {},
   "source": [
    "![treatment_policy](./img/regression-decision-making-8.png)"
   ]
  },
  {
   "cell_type": "markdown",
   "id": "ac8025e4",
   "metadata": {},
   "source": [
    "Is that change the best overall treatment for them? Let's investigate different policies. Going back to the \"Treatment policy\" tab, we see that going with the above intervention of s2 feature outperforms perturbing that  with a \"always increase\" intervention."
   ]
  },
  {
   "attachments": {},
   "cell_type": "markdown",
   "id": "ce677d35",
   "metadata": {},
   "source": [
    "![image.png](./img/regression-decision-making-9.png)"
   ]
  },
  {
   "cell_type": "markdown",
   "id": "3355ea1c",
   "metadata": {},
   "source": [
    "Finally, you can see a list demonstrating which datapoints (patients) in the current data sample have the largest causal response to the selected treatment (s2 feature change), based on all features included in the estimated causal model."
   ]
  },
  {
   "attachments": {},
   "cell_type": "markdown",
   "id": "3cb02322",
   "metadata": {},
   "source": [
    "![causal-table](./img/regression-decision-making-10.png)"
   ]
  }
 ],
 "metadata": {
  "kernelspec": {
   "display_name": "Python 3.7.11 ('rai')",
   "language": "python",
   "name": "python3"
  },
  "language_info": {
   "codemirror_mode": {
    "name": "ipython",
    "version": 3
   },
   "file_extension": ".py",
   "mimetype": "text/x-python",
   "name": "python",
   "nbconvert_exporter": "python",
   "pygments_lexer": "ipython3",
   "version": "3.7.11"
  },
  "vscode": {
   "interpreter": {
    "hash": "b261e1e4ccdbe90fd0fc731e4c93842ab1b6c5014af7724af0ca6e2259a012ad"
   }
  }
 },
 "nbformat": 4,
 "nbformat_minor": 5
}
